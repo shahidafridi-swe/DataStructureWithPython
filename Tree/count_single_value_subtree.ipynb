{
 "cells": [
  {
   "cell_type": "markdown",
   "id": "26f0c84f-b998-4008-949d-d630a1bd539a",
   "metadata": {},
   "source": [
    "### Find Count of Single Valued Subtrees"
   ]
  },
  {
   "cell_type": "code",
   "execution_count": 5,
   "id": "3d803209-7218-4468-bc3b-f2b189be4286",
   "metadata": {},
   "outputs": [],
   "source": [
    "class Node:\n",
    "    # Utility function to create a new node\n",
    "    def __init__(self ,data):\n",
    "        self.data = data\n",
    "        self.left = None\n",
    "        self.right = None"
   ]
  },
  {
   "cell_type": "code",
   "execution_count": 9,
   "id": "12cc4be4-6860-4736-aa15-93cdc65e76c5",
   "metadata": {},
   "outputs": [],
   "source": [
    "\n",
    "# \"\"\"Let us construct the below tree \n",
    "#             5\n",
    "#           /   \\\n",
    "#         4       5\n",
    "#        /  \\      \\\n",
    "#       4    4      5\n",
    "# \"\"\"\n",
    "root = Node(5)\n",
    "root.left = Node(4)\n",
    "root.right = Node(5)\n",
    "root.left.left = Node(4)\n",
    "root.left.right = Node(4)\n",
    "root.right.right = Node(5)"
   ]
  },
  {
   "cell_type": "markdown",
   "id": "6bc36fbd-6790-4c7e-a7c4-25d006d62a75",
   "metadata": {},
   "source": [
    "#### Using preorder traversal (recursion)"
   ]
  },
  {
   "cell_type": "code",
   "execution_count": 12,
   "id": "5982e319-892c-444c-bbc3-ee8b22a1dae9",
   "metadata": {},
   "outputs": [],
   "source": [
    "def countSingle(root):\n",
    "    res = [0]\n",
    "\n",
    "    def dfs(root):\n",
    "        if not root:\n",
    "            return \n",
    "        if not root.left and not root.right:\n",
    "            res[0] +=1\n",
    "        if root.left and root.right and root.data == root.left.data == root.right.data:\n",
    "            res[0] +=1\n",
    "        if root.left and not root.right and root.data == root.left.data:\n",
    "            res[0] +=1\n",
    "        if not root.left and root.right and root.data == root.right.data:\n",
    "            res[0] +=1\n",
    "        dfs(root.left)\n",
    "        dfs(root.right) \n",
    "    dfs(root)\n",
    "    return res[0]"
   ]
  },
  {
   "cell_type": "code",
   "execution_count": 13,
   "id": "586ca276-e4d3-43a8-8ad2-57bee2d2be41",
   "metadata": {},
   "outputs": [
    {
     "data": {
      "text/plain": [
       "5"
      ]
     },
     "execution_count": 13,
     "metadata": {},
     "output_type": "execute_result"
    }
   ],
   "source": [
    "countSingle(root)"
   ]
  },
  {
   "cell_type": "code",
   "execution_count": null,
   "id": "6cdfb328-31bc-4df2-b48c-d932ab34e8ce",
   "metadata": {},
   "outputs": [],
   "source": []
  },
  {
   "cell_type": "code",
   "execution_count": null,
   "id": "3b20f504-82eb-4f56-b13b-146076e34127",
   "metadata": {},
   "outputs": [],
   "source": []
  }
 ],
 "metadata": {
  "kernelspec": {
   "display_name": "Python 3 (ipykernel)",
   "language": "python",
   "name": "python3"
  },
  "language_info": {
   "codemirror_mode": {
    "name": "ipython",
    "version": 3
   },
   "file_extension": ".py",
   "mimetype": "text/x-python",
   "name": "python",
   "nbconvert_exporter": "python",
   "pygments_lexer": "ipython3",
   "version": "3.13.0"
  }
 },
 "nbformat": 4,
 "nbformat_minor": 5
}
