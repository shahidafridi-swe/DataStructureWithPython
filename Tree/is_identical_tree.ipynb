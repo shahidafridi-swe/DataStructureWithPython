{
 "cells": [
  {
   "cell_type": "code",
   "execution_count": 67,
   "id": "16f5e2c3-4bd4-4a62-81b3-4defab7ad1b6",
   "metadata": {},
   "outputs": [],
   "source": [
    "class Node:\n",
    "    def __init__(self, val):\n",
    "        self.data = val\n",
    "        self.left = None\n",
    "        self.right = None\n",
    "\n",
    "r1 = Node(1)\n",
    "r1.left = Node(2)\n",
    "r1.right = Node(3)\n",
    "r1.left.left = Node(4)\n",
    "\n",
    "r2 = Node(1)\n",
    "r2.left = Node(2)\n",
    "r2.right = Node(3)\n",
    "r2.left.left = Node(4)\n"
   ]
  },
  {
   "cell_type": "markdown",
   "id": "3c2e89d9-2132-4de2-a125-67caa3f93f44",
   "metadata": {},
   "source": [
    "### Check Identical Tree Using Recursion (Inorder Traversal)"
   ]
  },
  {
   "cell_type": "code",
   "execution_count": 68,
   "id": "ab17e250-8129-4dbf-b2c3-621331521bce",
   "metadata": {},
   "outputs": [
    {
     "name": "stdout",
     "output_type": "stream",
     "text": [
      "True\n"
     ]
    }
   ],
   "source": [
    "def is_identical(r1, r2):\n",
    "    if r1 is None and r2 is None:\n",
    "        return True\n",
    "    if r1 is None or r2 is None:\n",
    "        return False\n",
    "\n",
    "    return r1.data==r2.data and is_identical(r1.left, r2.left) and is_identical(r1.right, r2.right)\n",
    "print(is_identical(r1,r2))\n"
   ]
  },
  {
   "cell_type": "markdown",
   "id": "f3945198-a6f5-4f78-ab22-66c3906219d0",
   "metadata": {},
   "source": [
    "### Check Identical Tree Using Level Order Traversal"
   ]
  },
  {
   "cell_type": "code",
   "execution_count": 69,
   "id": "ae9af53f-2052-4e63-a539-66aad1a9d39e",
   "metadata": {},
   "outputs": [
    {
     "data": {
      "text/plain": [
       "True"
      ]
     },
     "execution_count": 69,
     "metadata": {},
     "output_type": "execute_result"
    }
   ],
   "source": [
    "from collections import deque\n",
    "\n",
    "def is_identical_level_order_traversal(r1, r2):\n",
    "    if r1 is None and r2 is None:\n",
    "        return True\n",
    "    if r1 is None or r2 is None:\n",
    "        return False\n",
    "    q1 = deque([r1])        \n",
    "    q2 = deque([r2])        \n",
    "    while q1:\n",
    "        node1 = q1.popleft()\n",
    "        node2 = q2.popleft()\n",
    "        \n",
    "        if node1.left or node2.left:\n",
    "            if node1.left and node2.left and node1.left.data==node2.left.data:\n",
    "                q1.append(node1.left) \n",
    "                q2.append(node2.left) \n",
    "            else:\n",
    "                return False\n",
    "        if node1.right or node2.right:\n",
    "            if node1.right and node2.right and node1.right.data==node2.right.data:\n",
    "                q1.append(node1.right) \n",
    "                q2.append(node2.right) \n",
    "            else:\n",
    "                return False\n",
    "    return True\n",
    "\n",
    "is_identical_level_order_traversal(r1, r2)"
   ]
  },
  {
   "cell_type": "code",
   "execution_count": 70,
   "id": "bd7728fa-1052-442e-a801-83ae07815ef0",
   "metadata": {},
   "outputs": [
    {
     "name": "stdout",
     "output_type": "stream",
     "text": [
      "True\n"
     ]
    }
   ],
   "source": [
    "from collections import deque\n",
    "\n",
    "def is_identical_level_order_traversal(r1, r2):\n",
    "    # If both trees are empty\n",
    "    if r1 is None and r2 is None:\n",
    "        return True\n",
    "    # If one tree is empty and the other is not\n",
    "    if r1 is None or r2 is None:\n",
    "        return False\n",
    "    \n",
    "    # Initialize two queues for level order traversal\n",
    "    q1 = deque([r1])        \n",
    "    q2 = deque([r2])        \n",
    "    \n",
    "    while q1 and q2:\n",
    "        node1 = q1.popleft()\n",
    "        node2 = q2.popleft()\n",
    "        \n",
    "        # Check if the data in the current nodes is identical\n",
    "        if node1.data != node2.data:\n",
    "            return False\n",
    "        \n",
    "        # Check left children\n",
    "        if (node1.left or node2.left):\n",
    "            if (node1.left and node2.left and node1.left.data == node2.left.data):\n",
    "                q1.append(node1.left)\n",
    "                q2.append(node2.left)\n",
    "            else:\n",
    "                return False\n",
    "        \n",
    "        # Check right children\n",
    "        if (node1.right or node2.right):\n",
    "            if (node1.right and node2.right and node1.right.data == node2.right.data):\n",
    "                q1.append(node1.right)\n",
    "                q2.append(node2.right)\n",
    "            else:\n",
    "                return False\n",
    "    \n",
    "    # Both queues should be empty if trees are identical\n",
    "    return len(q1) == len(q2)\n",
    "\n",
    "# Example usage:\n",
    "class Node:\n",
    "    def __init__(self, data):\n",
    "        self.data = data\n",
    "        self.left = None\n",
    "        self.right = None\n",
    "\n",
    "if __name__ == \"__main__\":\n",
    "    # Tree 1\n",
    "    r1 = Node(1)\n",
    "    r1.left = Node(2)\n",
    "    r1.right = Node(3)\n",
    "    r1.left.left = Node(4)\n",
    "    r1.left.right = Node(5)\n",
    "\n",
    "    # Tree 2\n",
    "    r2 = Node(1)\n",
    "    r2.left = Node(2)\n",
    "    r2.right = Node(3)\n",
    "    r2.left.left = Node(4)\n",
    "    r2.left.right = Node(5)\n",
    "\n",
    "    print(is_identical_level_order_traversal(r1, r2))  # Output: True\n"
   ]
  },
  {
   "cell_type": "code",
   "execution_count": 71,
   "id": "46eed938-1d27-4685-a2d6-82830636c08a",
   "metadata": {},
   "outputs": [],
   "source": [
    "\n",
    "# Function to check if two trees are identical \n",
    "# using level-order traversal\n",
    "def is_identical(r1, r2):\n",
    "\n",
    "    # If both trees are empty, they are identical\n",
    "    if r1 is None and r2 is None:\n",
    "        return True\n",
    "\n",
    "    # If one tree is empty and the other is not\n",
    "    if r1 is None or r2 is None:\n",
    "        return False\n",
    "\n",
    "    # Queues for level-order traversal\n",
    "    q1 = deque([r1])\n",
    "    q2 = deque([r2])\n",
    "\n",
    "    # Perform level-order traversal for both trees\n",
    "    while q1 and q2:\n",
    "\n",
    "        n1 = q1.popleft()\n",
    "        n2 = q2.popleft()\n",
    "\n",
    "        # Check if the current nodes are not equal\n",
    "        if n1.data != n2.data:\n",
    "            return False\n",
    "\n",
    "        # Check left children\n",
    "        if n1.left and n2.left:\n",
    "            q1.append(n1.left)\n",
    "            q2.append(n2.left)\n",
    "            \n",
    "        elif n1.left or n2.left:\n",
    "            return False\n",
    "\n",
    "        # Check right children\n",
    "        if n1.right and n2.right:\n",
    "            q1.append(n1.right)\n",
    "            q2.append(n2.right)\n",
    "            \n",
    "        elif n1.right or n2.right:\n",
    "            return False\n",
    "\n",
    "    # Both queues should be empty if trees are identical\n",
    "    return not q1 and not q2"
   ]
  },
  {
   "cell_type": "code",
   "execution_count": null,
   "id": "5449a063-2a45-4efb-b4a4-3ef1861e1b69",
   "metadata": {},
   "outputs": [],
   "source": []
  }
 ],
 "metadata": {
  "kernelspec": {
   "display_name": "Python 3 (ipykernel)",
   "language": "python",
   "name": "python3"
  },
  "language_info": {
   "codemirror_mode": {
    "name": "ipython",
    "version": 3
   },
   "file_extension": ".py",
   "mimetype": "text/x-python",
   "name": "python",
   "nbconvert_exporter": "python",
   "pygments_lexer": "ipython3",
   "version": "3.13.0"
  }
 },
 "nbformat": 4,
 "nbformat_minor": 5
}
