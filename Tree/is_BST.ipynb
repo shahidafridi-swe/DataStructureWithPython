{
 "cells": [
  {
   "cell_type": "code",
   "execution_count": 3,
   "id": "a5292b6b-e127-43eb-973a-66c5a10c652a",
   "metadata": {},
   "outputs": [],
   "source": [
    "class Node:\n",
    "    def __init__(self, value):\n",
    "        self.data = value\n",
    "        self.left = None\n",
    "        self.right = None"
   ]
  },
  {
   "cell_type": "code",
   "execution_count": 10,
   "id": "e6e8d245-07b9-4e64-ba6f-41421fc57c6a",
   "metadata": {},
   "outputs": [],
   "source": [
    " # Create a sample binary tree\n",
    "    #      4\n",
    "    #    /   \\\n",
    "    #   2     5\n",
    "    #  / \\\n",
    "    # 1   3\n",
    "\n",
    "root = Node(4)\n",
    "root.left = Node(2)\n",
    "root.right = Node(3)\n",
    "root.left.left = Node(1)\n",
    "root.left.right = Node(3)"
   ]
  },
  {
   "cell_type": "code",
   "execution_count": 11,
   "id": "655d7ea2-a95b-4653-aec0-3e1d11335f67",
   "metadata": {},
   "outputs": [],
   "source": [
    "def is_BST(root):\n",
    "    def traverse(root):\n",
    "        if not root:\n",
    "            return True\n",
    "        if root.left and root.left.data > root.data:\n",
    "            return False\n",
    "        if root.right and root.data > root.right.data:\n",
    "            return False\n",
    "        left = traverse(root.left)\n",
    "        right = traverse(root.right)\n",
    "        return True\n",
    "    return traverse(root)"
   ]
  },
  {
   "cell_type": "code",
   "execution_count": 12,
   "id": "bbe169c6-1c59-4192-bc1e-2af037e9a834",
   "metadata": {},
   "outputs": [
    {
     "data": {
      "text/plain": [
       "False"
      ]
     },
     "execution_count": 12,
     "metadata": {},
     "output_type": "execute_result"
    }
   ],
   "source": [
    "is_BST(root)"
   ]
  },
  {
   "cell_type": "code",
   "execution_count": null,
   "id": "0eccc001-b35d-4c74-8f8e-08e8c3581f3b",
   "metadata": {},
   "outputs": [],
   "source": []
  }
 ],
 "metadata": {
  "kernelspec": {
   "display_name": "Python 3 (ipykernel)",
   "language": "python",
   "name": "python3"
  },
  "language_info": {
   "codemirror_mode": {
    "name": "ipython",
    "version": 3
   },
   "file_extension": ".py",
   "mimetype": "text/x-python",
   "name": "python",
   "nbconvert_exporter": "python",
   "pygments_lexer": "ipython3",
   "version": "3.13.0"
  }
 },
 "nbformat": 4,
 "nbformat_minor": 5
}
