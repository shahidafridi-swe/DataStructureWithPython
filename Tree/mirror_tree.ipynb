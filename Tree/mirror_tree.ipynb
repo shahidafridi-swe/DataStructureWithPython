{
 "cells": [
  {
   "cell_type": "code",
   "execution_count": 12,
   "id": "1ce3c8e4-db25-4aa4-8047-e5e5ee67de14",
   "metadata": {},
   "outputs": [],
   "source": [
    "class TreeNode:\n",
    "    def __init__(self, data):\n",
    "        self.data = data\n",
    "        self.left = None\n",
    "        self.right = None\n",
    "\n",
    "\n",
    "root = TreeNode('R')\n",
    "nodeA = TreeNode('A')\n",
    "nodeB = TreeNode('B')\n",
    "nodeC = TreeNode('C')\n",
    "nodeD = TreeNode('D')\n",
    "nodeE = TreeNode('E')\n",
    "nodeF = TreeNode('F')\n",
    "nodeG = TreeNode('G')\n",
    "\n",
    "root.left = nodeA\n",
    "root.right = nodeB\n",
    "nodeA.left = nodeC\n",
    "nodeA.right = nodeD\n",
    "nodeB.left = nodeE\n",
    "nodeB.right = nodeF\n",
    "nodeC.left = nodeG"
   ]
  },
  {
   "cell_type": "markdown",
   "id": "a5bf9292-3f8a-4ce2-bae0-9cabe59bbb7b",
   "metadata": {},
   "source": [
    "### Print as Preorder"
   ]
  },
  {
   "cell_type": "code",
   "execution_count": 13,
   "id": "6dc9021e-3866-4d77-b7ac-3b603d300468",
   "metadata": {},
   "outputs": [],
   "source": [
    "def preorder(root):\n",
    "    if root is None:\n",
    "        return \n",
    "    print(root.data, end=\" \")\n",
    "    preorder(root.left)\n",
    "    preorder(root.right)"
   ]
  },
  {
   "cell_type": "markdown",
   "id": "2d283286-581c-422d-ab71-63a58ecc6bb5",
   "metadata": {},
   "source": [
    "### Invert Binary Tree – Change to Mirror Tree Using Postorder Traversal (Using Recursion)"
   ]
  },
  {
   "cell_type": "code",
   "execution_count": 14,
   "id": "d2c940d8-7cc7-4af7-810d-42991e5842d8",
   "metadata": {},
   "outputs": [],
   "source": [
    "def mirror(root):\n",
    "    if root is None: \n",
    "        return None \n",
    "    left = mirror(root.left)\n",
    "    right = mirror(root.right)\n",
    "\n",
    "    root.left = right\n",
    "    root.right = left\n",
    "\n",
    "    return root\n",
    "    "
   ]
  },
  {
   "cell_type": "code",
   "execution_count": 15,
   "id": "c9a54df3-7d29-440c-82cb-9ed686801a0f",
   "metadata": {},
   "outputs": [],
   "source": [
    "\n",
    "# mr = mirror(root)\n",
    "# preorder(mr)\n",
    "# print(\"\")\n",
    "# preorder(root)"
   ]
  },
  {
   "cell_type": "markdown",
   "id": "0f4e748c-76c0-490c-9e58-99159ad5f3f3",
   "metadata": {},
   "source": [
    "### Invert Binary Tree – Change to Mirror Tree using level order traversal"
   ]
  },
  {
   "cell_type": "code",
   "execution_count": 16,
   "id": "e613a146-132f-43b2-b090-f466c67ba7f9",
   "metadata": {},
   "outputs": [],
   "source": [
    "from collections import deque \n",
    "def mirror_level_order_traversal(root):\n",
    "    if root is None:\n",
    "        return None \n",
    "    q = deque([root])\n",
    "\n",
    "    while q:\n",
    "        node = q.popleft()\n",
    "        node.left, node.right = node.right, node.left\n",
    "        if node.left:\n",
    "            q.append(node.left)\n",
    "        if node.right:\n",
    "            q.append(node.right)\n",
    "    return root      \n",
    "    "
   ]
  },
  {
   "cell_type": "code",
   "execution_count": 17,
   "id": "b84f6538-1ddd-468a-a136-623a55d82b71",
   "metadata": {},
   "outputs": [
    {
     "name": "stdout",
     "output_type": "stream",
     "text": [
      "R B F E A D C G \n",
      "R B F E A D C G "
     ]
    }
   ],
   "source": [
    "preorder(mr)\n",
    "print(\"\")\n",
    "mr = mirror_level_order_traversal(root)\n",
    "preorder(mr)"
   ]
  },
  {
   "cell_type": "code",
   "execution_count": null,
   "id": "5329d737-3ff6-46d2-8c21-71759c045f08",
   "metadata": {},
   "outputs": [],
   "source": []
  }
 ],
 "metadata": {
  "kernelspec": {
   "display_name": "Python 3 (ipykernel)",
   "language": "python",
   "name": "python3"
  },
  "language_info": {
   "codemirror_mode": {
    "name": "ipython",
    "version": 3
   },
   "file_extension": ".py",
   "mimetype": "text/x-python",
   "name": "python",
   "nbconvert_exporter": "python",
   "pygments_lexer": "ipython3",
   "version": "3.13.0"
  }
 },
 "nbformat": 4,
 "nbformat_minor": 5
}
