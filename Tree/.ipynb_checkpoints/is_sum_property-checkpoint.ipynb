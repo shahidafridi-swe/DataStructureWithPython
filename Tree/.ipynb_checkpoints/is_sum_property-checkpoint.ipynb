{
 "cells": [
  {
   "cell_type": "markdown",
   "id": "6a27f465-7d1d-491b-8f30-14b6f1fe79c3",
   "metadata": {},
   "source": [
    "### Check for Children Sum Property in a Binary Tree\n",
    "Given a binary tree, the task is to check for every node, its value is equal to the sum of values of its immediate left and right child. For NULL values, consider the value to be 0. Also, leaves are considered to follow the property."
   ]
  },
  {
   "cell_type": "markdown",
   "id": "5b447f33-23a3-49fa-b2b3-8d65d84b6e81",
   "metadata": {},
   "source": [
    "### Tree"
   ]
  },
  {
   "cell_type": "code",
   "execution_count": 46,
   "id": "65b8779a-1fb0-4101-8f8c-096d60d169fc",
   "metadata": {},
   "outputs": [],
   "source": [
    "class Node:\n",
    "    def __init__(self, data):\n",
    "        self.data = data\n",
    "        self.left = None\n",
    "        self.right = None\n",
    "\n",
    "\n",
    "# Create a hard coded tree.\n",
    "    #         35\n",
    "    #       /   \\\n",
    "    #      20    15\n",
    "    #     /  \\  /  \\\n",
    "    #   15   5 10   5\n",
    "# root = Node(35)\n",
    "# root.left = Node(20) \n",
    "# root.right = Node(15)\n",
    "# root.left.left = Node(15)\n",
    "# root.left.right = Node(5)\n",
    "# root.right.left = Node(10)\n",
    "# root.right.right = Node(5)\n",
    "\n",
    "# Create a hard coded tree.\n",
    "    #         35\n",
    "    #        /  \\\n",
    "    #      20    15\n",
    "    #     /       \\\n",
    "    #   20         15\n",
    "root = Node(35)\n",
    "root.left = Node(20) \n",
    "root.right = Node(15)\n",
    "root.left.left = Node(20)\n",
    "root.right.right = Node(15)\n"
   ]
  },
  {
   "cell_type": "markdown",
   "id": "7017f1dc-e8e2-4653-bcb1-64d620a5d193",
   "metadata": {},
   "source": [
    "### Is Sum Property"
   ]
  },
  {
   "cell_type": "code",
   "execution_count": 47,
   "id": "dad68e4f-04a1-49d1-9e1f-ae6afb3b3a36",
   "metadata": {},
   "outputs": [
    {
     "data": {
      "text/plain": [
       "True"
      ]
     },
     "execution_count": 47,
     "metadata": {},
     "output_type": "execute_result"
    }
   ],
   "source": [
    "def is_sum_property(root):\n",
    "    def dfs(root):\n",
    "        if not root:\n",
    "            return [True, 0] \n",
    "        left = dfs(root.left)\n",
    "        right = dfs(root.right)\n",
    "    \n",
    "        if left[1] ==  right[1] == 0:\n",
    "            balanced = True\n",
    "        else:\n",
    "            balanced = left[0] and right[0] and left[1]+right[1] == root.data\n",
    "        return [balanced, root.data]\n",
    "        \n",
    "    return dfs(root)[0]\n",
    "\n",
    "is_sum_property(root)  "
   ]
  },
  {
   "cell_type": "code",
   "execution_count": null,
   "id": "541aff0d-4cc0-48b8-8218-dcc6b9332eea",
   "metadata": {},
   "outputs": [],
   "source": []
  },
  {
   "cell_type": "code",
   "execution_count": null,
   "id": "12e961ad-4fb1-4f42-83a8-adb3187605f6",
   "metadata": {},
   "outputs": [],
   "source": []
  }
 ],
 "metadata": {
  "kernelspec": {
   "display_name": "Python 3 (ipykernel)",
   "language": "python",
   "name": "python3"
  },
  "language_info": {
   "codemirror_mode": {
    "name": "ipython",
    "version": 3
   },
   "file_extension": ".py",
   "mimetype": "text/x-python",
   "name": "python",
   "nbconvert_exporter": "python",
   "pygments_lexer": "ipython3",
   "version": "3.13.0"
  }
 },
 "nbformat": 4,
 "nbformat_minor": 5
}
