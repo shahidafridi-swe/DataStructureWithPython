{
 "cells": [
  {
   "cell_type": "markdown",
   "id": "8bd0c6e6-00fb-4e0f-aae1-e82041966c2d",
   "metadata": {},
   "source": [
    "## Check if a Binary Tree is subtree of another binary tree"
   ]
  },
  {
   "cell_type": "code",
   "execution_count": 18,
   "id": "f045af26-5533-40d7-be30-b7cbca5073d1",
   "metadata": {},
   "outputs": [],
   "source": [
    "class Node:\n",
    "    def __init__(self, value):\n",
    "        self.data = value\n",
    "        self.left = None\n",
    "        self.right = None"
   ]
  },
  {
   "cell_type": "code",
   "execution_count": 19,
   "id": "1312f87b-246c-4212-9ff5-e1dcfac824ad",
   "metadata": {},
   "outputs": [],
   "source": [
    " # Construct Tree root1\n",
    "    #          26\n",
    "    #         /  \\\n",
    "    #        10   3\n",
    "    #       / \\    \\\n",
    "    #      4   6    3\n",
    "    #       \\\n",
    "    #        30\n",
    "root1 = Node(26)\n",
    "root1.right = Node(3)\n",
    "root1.right.right = Node(3)\n",
    "root1.left = Node(10)\n",
    "root1.left.left = Node(4)\n",
    "root1.left.left.right = Node(30)\n",
    "root1.left.right = Node(6)"
   ]
  },
  {
   "cell_type": "code",
   "execution_count": 20,
   "id": "f92b2c9e-1a75-4eac-b147-ca163851b874",
   "metadata": {},
   "outputs": [],
   "source": [
    "# Construct Tree root2\n",
    "    #          10\n",
    "    #         /  \\\n",
    "    #        4    6\n",
    "    #         \\\n",
    "    #          30\n",
    "root2 = Node(10)\n",
    "root2.right = Node(6)\n",
    "root2.left = Node(4)\n",
    "root2.left.right = Node(30)"
   ]
  },
  {
   "cell_type": "code",
   "execution_count": 21,
   "id": "31f88df8-9772-4310-8b6f-d77c22a6c0fe",
   "metadata": {},
   "outputs": [],
   "source": [
    "### Is Identical"
   ]
  },
  {
   "cell_type": "code",
   "execution_count": 22,
   "id": "90608e9d-2922-4229-8cca-a40239f3feb2",
   "metadata": {},
   "outputs": [],
   "source": [
    "def is_identical(r1, r2):\n",
    "    if not r1 and not r2:\n",
    "        return True\n",
    "    if not r1 or not r2 or r1.data != r2.data:\n",
    "        return False\n",
    "    return r1.data == r2.data and is_identical(r1.left, r2.left) and is_identical(r1.right, r2.right)\n",
    "\n"
   ]
  },
  {
   "cell_type": "code",
   "execution_count": 23,
   "id": "df6e5a81-1753-4adf-9592-24a778a101fb",
   "metadata": {},
   "outputs": [],
   "source": [
    "def is_subtree(root1, root2):\n",
    "    if not root2:\n",
    "        return True\n",
    "    if not root1:\n",
    "        return False\n",
    "    if is_identical(root1, root2):\n",
    "        return True\n",
    "    return is_subtree(root1.left, root2) or is_subtree(root1.right, root2)"
   ]
  },
  {
   "cell_type": "code",
   "execution_count": 24,
   "id": "9cbdf6fe-3277-4138-9421-8345ad858469",
   "metadata": {},
   "outputs": [
    {
     "data": {
      "text/plain": [
       "True"
      ]
     },
     "execution_count": 24,
     "metadata": {},
     "output_type": "execute_result"
    }
   ],
   "source": [
    "is_subtree(root1,root2)"
   ]
  },
  {
   "cell_type": "code",
   "execution_count": null,
   "id": "c1569afe-912d-4678-8d3b-d4771b38cb0c",
   "metadata": {},
   "outputs": [],
   "source": []
  }
 ],
 "metadata": {
  "kernelspec": {
   "display_name": "Python 3 (ipykernel)",
   "language": "python",
   "name": "python3"
  },
  "language_info": {
   "codemirror_mode": {
    "name": "ipython",
    "version": 3
   },
   "file_extension": ".py",
   "mimetype": "text/x-python",
   "name": "python",
   "nbconvert_exporter": "python",
   "pygments_lexer": "ipython3",
   "version": "3.13.0"
  }
 },
 "nbformat": 4,
 "nbformat_minor": 5
}
