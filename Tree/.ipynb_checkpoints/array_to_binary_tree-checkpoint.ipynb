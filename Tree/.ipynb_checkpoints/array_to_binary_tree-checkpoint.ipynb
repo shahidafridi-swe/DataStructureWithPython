{
 "cells": [
  {
   "cell_type": "markdown",
   "id": "3e72ed0d-2905-40ff-96d9-685688e98a0e",
   "metadata": {},
   "source": [
    "### Construct Binary Tree from given Parent Array representation"
   ]
  },
  {
   "cell_type": "code",
   "execution_count": 6,
   "id": "678e8325-1726-4e0a-9a98-ce2536c79c2c",
   "metadata": {},
   "outputs": [],
   "source": [
    "class TreeNode:\n",
    "    def __init__(self, data):\n",
    "        self.data = data\n",
    "        self.left = None\n",
    "        self.right = None"
   ]
  },
  {
   "cell_type": "code",
   "execution_count": 30,
   "id": "31b1620f-3030-4449-8327-c275b6779200",
   "metadata": {},
   "outputs": [],
   "source": [
    "def array_to_tree(arr):\n",
    "    root = None \n",
    "    if not arr:\n",
    "        return root\n",
    "    nodes_arr = []\n",
    "    for i in range(len(arr)):\n",
    "        nodes_arr.append(TreeNode(i))\n",
    "    for i in range(len(arr)): \n",
    "        if arr[i] == -1:\n",
    "            root = nodes_arr[i]\n",
    "        else:\n",
    "            parent = nodes_arr[arr[i]]\n",
    "            current = nodes_arr[i]\n",
    "            if parent.left is None:\n",
    "                parent.left = current\n",
    "            else:\n",
    "                parent.right = current\n",
    "    return root\n"
   ]
  },
  {
   "cell_type": "code",
   "execution_count": 31,
   "id": "c0b8b475-acde-472b-bae5-19a4f9debc61",
   "metadata": {},
   "outputs": [],
   "source": [
    "root = array_to_tree([1,5,5,2,2,-1,3])\n"
   ]
  },
  {
   "cell_type": "code",
   "execution_count": 32,
   "id": "e2a32193-fd9a-4ddc-9254-169c41c9a79c",
   "metadata": {},
   "outputs": [],
   "source": [
    "def inOrderTraversal(root):\n",
    "    arr = []\n",
    "    def traversal(node):\n",
    "      if node is None:\n",
    "        return\n",
    "      traversal(node.left)\n",
    "      arr.append(node.data)\n",
    "      traversal(node.right)\n",
    "    traversal(root)\n",
    "    return arr"
   ]
  },
  {
   "cell_type": "code",
   "execution_count": 33,
   "id": "b437a279-6475-4f69-bc29-55c4fe63d5d1",
   "metadata": {},
   "outputs": [
    {
     "data": {
      "text/plain": [
       "[0, 1, 5, 6, 3, 2, 4]"
      ]
     },
     "execution_count": 33,
     "metadata": {},
     "output_type": "execute_result"
    }
   ],
   "source": [
    "inOrderTraversal(root)"
   ]
  },
  {
   "cell_type": "code",
   "execution_count": null,
   "id": "77af4c5a-ad4f-49b8-bd46-62138d9af439",
   "metadata": {},
   "outputs": [],
   "source": []
  }
 ],
 "metadata": {
  "kernelspec": {
   "display_name": "Python 3 (ipykernel)",
   "language": "python",
   "name": "python3"
  },
  "language_info": {
   "codemirror_mode": {
    "name": "ipython",
    "version": 3
   },
   "file_extension": ".py",
   "mimetype": "text/x-python",
   "name": "python",
   "nbconvert_exporter": "python",
   "pygments_lexer": "ipython3",
   "version": "3.13.0"
  }
 },
 "nbformat": 4,
 "nbformat_minor": 5
}
