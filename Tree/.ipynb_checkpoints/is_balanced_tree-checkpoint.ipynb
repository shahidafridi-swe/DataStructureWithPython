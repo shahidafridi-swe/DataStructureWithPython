{
 "cells": [
  {
   "cell_type": "markdown",
   "id": "d79503b2-1ad4-4cb2-8aeb-1711e45dac6f",
   "metadata": {},
   "source": [
    "### Tree"
   ]
  },
  {
   "cell_type": "code",
   "execution_count": 14,
   "id": "213af979-c81a-48b3-9e6d-deb8142ab176",
   "metadata": {},
   "outputs": [],
   "source": [
    "class TreeNode:\n",
    "    def __init__(self, data):\n",
    "        self.data = data\n",
    "        self.left = None\n",
    "        self.right = None\n",
    "\n",
    "\n",
    "root = TreeNode('R')\n",
    "nodeA = TreeNode('A')\n",
    "nodeB = TreeNode('B')\n",
    "nodeC = TreeNode('C')\n",
    "nodeD = TreeNode('D')\n",
    "nodeE = TreeNode('E')\n",
    "nodeF = TreeNode('F')\n",
    "nodeG = TreeNode('G')\n",
    "\n",
    "root.left = nodeA\n",
    "root.right = nodeB\n",
    "nodeA.left = nodeC\n",
    "nodeA.right = nodeD\n",
    "nodeB.left = nodeE\n",
    "nodeB.right = nodeF\n",
    "nodeF.left = nodeG\n"
   ]
  },
  {
   "cell_type": "markdown",
   "id": "9d7129da-7dcd-458e-b744-0607441efa39",
   "metadata": {},
   "source": [
    "### Is Balanced Tree Using Recuirsion "
   ]
  },
  {
   "cell_type": "code",
   "execution_count": 18,
   "id": "3e96c191-bb0e-4de9-a46c-84dfee846d7d",
   "metadata": {},
   "outputs": [
    {
     "data": {
      "text/plain": [
       "True"
      ]
     },
     "execution_count": 18,
     "metadata": {},
     "output_type": "execute_result"
    }
   ],
   "source": [
    "def is_balanced(root):\n",
    "    def dfs(root): \n",
    "        if not root: return [True, 0]\n",
    "        left = dfs(root.left)\n",
    "        right = dfs(root.right)\n",
    "        balanced = left[0] and right[0] and abs(left[1]-right[1]) <= 1\n",
    "        return [balanced, 1+max(left[1], right[1])]\n",
    "        \n",
    "    return dfs(root)[0]\n",
    "is_balanced(root)\n",
    "    \n",
    "    "
   ]
  },
  {
   "cell_type": "code",
   "execution_count": null,
   "id": "25ce7a35-7dbf-47bb-b643-78c689668bdd",
   "metadata": {},
   "outputs": [],
   "source": []
  }
 ],
 "metadata": {
  "kernelspec": {
   "display_name": "Python 3 (ipykernel)",
   "language": "python",
   "name": "python3"
  },
  "language_info": {
   "codemirror_mode": {
    "name": "ipython",
    "version": 3
   },
   "file_extension": ".py",
   "mimetype": "text/x-python",
   "name": "python",
   "nbconvert_exporter": "python",
   "pygments_lexer": "ipython3",
   "version": "3.13.0"
  }
 },
 "nbformat": 4,
 "nbformat_minor": 5
}
