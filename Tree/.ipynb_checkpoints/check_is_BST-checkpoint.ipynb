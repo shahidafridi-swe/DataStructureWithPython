{
 "cells": [
  {
   "cell_type": "code",
   "execution_count": 16,
   "id": "573e9ff1-c791-459d-aa6b-f33694a7a95a",
   "metadata": {},
   "outputs": [],
   "source": [
    "class Node:\n",
    "    def __init__(self, value):\n",
    "        self.val = value\n",
    "        self.left = None\n",
    "        self.right = None"
   ]
  },
  {
   "cell_type": "code",
   "execution_count": 17,
   "id": "2bd1fe4f-fd87-471c-ba55-a19a826a1150",
   "metadata": {},
   "outputs": [],
   "source": [
    " # Create a sample binary tree\n",
    "    #      4\n",
    "    #    /   \\\n",
    "    #   2     6\n",
    "    #  / \\\n",
    "    # 1   5\n",
    "root = Node(4)\n",
    "root.left = Node(2)\n",
    "root.right = Node(6)\n",
    "root.left.left = Node(1)\n",
    "root.left.right = Node(3)"
   ]
  },
  {
   "cell_type": "code",
   "execution_count": 18,
   "id": "5bfbd4c4-319b-47e6-bc48-65f4226954c9",
   "metadata": {},
   "outputs": [],
   "source": [
    "def is_BST(root):\n",
    "    def valid(left, node, right):\n",
    "        if not node:\n",
    "            return True\n",
    "        if not(left<node.val<right):\n",
    "            return False \n",
    "        return valid(left, node.left, node.val) and valid(node.val, node.right, right)\n",
    "    return valid(float(\"-inf\"), root, float(\"inf\"))\n",
    "    "
   ]
  },
  {
   "cell_type": "code",
   "execution_count": 19,
   "id": "d6c95a57-d75f-4541-a511-a3694e9eba67",
   "metadata": {},
   "outputs": [
    {
     "data": {
      "text/plain": [
       "True"
      ]
     },
     "execution_count": 19,
     "metadata": {},
     "output_type": "execute_result"
    }
   ],
   "source": [
    "is_BST(root)\n"
   ]
  },
  {
   "cell_type": "code",
   "execution_count": null,
   "id": "490483b5-8383-48d9-bc8e-676ddd7939a9",
   "metadata": {},
   "outputs": [],
   "source": []
  }
 ],
 "metadata": {
  "kernelspec": {
   "display_name": "Python 3 (ipykernel)",
   "language": "python",
   "name": "python3"
  },
  "language_info": {
   "codemirror_mode": {
    "name": "ipython",
    "version": 3
   },
   "file_extension": ".py",
   "mimetype": "text/x-python",
   "name": "python",
   "nbconvert_exporter": "python",
   "pygments_lexer": "ipython3",
   "version": "3.13.0"
  }
 },
 "nbformat": 4,
 "nbformat_minor": 5
}
