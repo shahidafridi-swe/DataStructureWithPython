{
 "cells": [
  {
   "cell_type": "code",
   "execution_count": 91,
   "id": "16be064b-9b5e-4aad-93eb-51ae120be2a8",
   "metadata": {},
   "outputs": [],
   "source": [
    "class TreeNode:\n",
    "    def __init__(self, data):\n",
    "        self.data = data\n",
    "        self.left = None\n",
    "        self.right = None\n",
    "\n",
    "\n",
    "# root = TreeNode('R')\n",
    "# nodeA = TreeNode('A')\n",
    "# nodeB = TreeNode('B')\n",
    "# nodeC = TreeNode('C')\n",
    "# nodeD = TreeNode('D')\n",
    "# nodeE = TreeNode('E')\n",
    "# nodeF = TreeNode('F')\n",
    "# nodeG = TreeNode('G')\n",
    "\n",
    "# root.left = nodeA\n",
    "# root.right = nodeB\n",
    "# nodeA.left = nodeC\n",
    "# nodeA.right = nodeD\n",
    "# nodeB.left = nodeE\n",
    "# nodeB.right = nodeF\n",
    "# # nodeF.left = nodeG\n",
    "\n"
   ]
  },
  {
   "cell_type": "code",
   "execution_count": 92,
   "id": "e2a7dcdf-1ca8-4a8e-bde9-97cc26b3ea44",
   "metadata": {},
   "outputs": [],
   "source": [
    "root = TreeNode(1)\n",
    "root.left = TreeNode(2)\n",
    "root.right = TreeNode(2)\n",
    "root.left.left = TreeNode(3)\n",
    "root.left.right = TreeNode(4)\n",
    "root.right.left = TreeNode(4)\n",
    "root.right.right = TreeNode(3)"
   ]
  },
  {
   "cell_type": "markdown",
   "id": "2dd0b22c-6588-4927-b41e-ad1ab94840bb",
   "metadata": {},
   "source": [
    "### Mirror Tree Using Preorder Traversal (using recursion)"
   ]
  },
  {
   "cell_type": "code",
   "execution_count": 93,
   "id": "7a831ae6-2a93-457d-ac0c-41a2bee96e1b",
   "metadata": {},
   "outputs": [],
   "source": [
    "def is_mirror(left_sub, right_sub):\n",
    "    if left_sub is None and right_sub is None:\n",
    "        return True \n",
    "    if left_sub is None or right_sub is None:\n",
    "        return False\n",
    "\n",
    "    return left_sub.data == right_sub.data and is_mirror(left_sub.left, right_sub.right) and is_mirror(left_sub.right, right_sub.left)"
   ]
  },
  {
   "cell_type": "markdown",
   "id": "bc3cc9c0-5e7b-43dd-bbf0-943a64e2489e",
   "metadata": {},
   "source": [
    "### Mirror Tree Using stack "
   ]
  },
  {
   "cell_type": "code",
   "execution_count": 94,
   "id": "7023d098-8a8a-4cdf-8f1f-a4727e377f13",
   "metadata": {},
   "outputs": [],
   "source": [
    "from collections import deque\n",
    "def is_mirror_using_stack(left_sub, right_sub):\n",
    "    q = deque()\n",
    "    q.append(root.left)\n",
    "    q.append(root.right)\n",
    "\n",
    "    while q:\n",
    "        node1 = q.popleft()\n",
    "        node2 = q.popleft()\n",
    "\n",
    "        if node1 is None and node2 is None:\n",
    "            continue\n",
    "        if node1 is None or node2 is None or node1.data!=node2.data:\n",
    "            return False\n",
    "\n",
    "        q.append(node1.left)\n",
    "        q.append(node2.right)\n",
    "        q.append(node1.right)\n",
    "        q.append(node2.left)\n",
    "    return True\n",
    "        "
   ]
  },
  {
   "cell_type": "markdown",
   "id": "064b3c13-c1d0-4003-b7ec-e4a1aeb81221",
   "metadata": {},
   "source": [
    "### Symmetric Tree"
   ]
  },
  {
   "cell_type": "code",
   "execution_count": 95,
   "id": "f28713c9-a897-4fa5-bb32-383f767ecd3b",
   "metadata": {},
   "outputs": [],
   "source": [
    "def is_symmetric(root):\n",
    "    if root is None:\n",
    "        return True\n",
    "    return is_mirror_using_stack(root.left, root.right)"
   ]
  },
  {
   "cell_type": "code",
   "execution_count": 96,
   "id": "0295de69-117a-454f-935d-d5eaff520ae2",
   "metadata": {},
   "outputs": [
    {
     "data": {
      "text/plain": [
       "True"
      ]
     },
     "execution_count": 96,
     "metadata": {},
     "output_type": "execute_result"
    }
   ],
   "source": [
    "is_symmetric(root)"
   ]
  }
 ],
 "metadata": {
  "kernelspec": {
   "display_name": "Python 3 (ipykernel)",
   "language": "python",
   "name": "python3"
  },
  "language_info": {
   "codemirror_mode": {
    "name": "ipython",
    "version": 3
   },
   "file_extension": ".py",
   "mimetype": "text/x-python",
   "name": "python",
   "nbconvert_exporter": "python",
   "pygments_lexer": "ipython3",
   "version": "3.13.0"
  }
 },
 "nbformat": 4,
 "nbformat_minor": 5
}
