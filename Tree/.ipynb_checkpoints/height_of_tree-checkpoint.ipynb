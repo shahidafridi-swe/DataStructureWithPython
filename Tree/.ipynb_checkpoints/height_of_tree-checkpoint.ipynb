{
 "cells": [
  {
   "cell_type": "code",
   "execution_count": 20,
   "id": "f6326ce8-9466-4e4e-bd79-b2d14c4bf243",
   "metadata": {},
   "outputs": [],
   "source": [
    "class TreeNode:\n",
    "    def __init__(self, data):\n",
    "        self.data = data\n",
    "        self.left = None\n",
    "        self.right = None\n",
    "\n",
    "\n",
    "root = TreeNode('R')\n",
    "nodeA = TreeNode('A')\n",
    "nodeB = TreeNode('B')\n",
    "nodeC = TreeNode('C')\n",
    "nodeD = TreeNode('D')\n",
    "nodeE = TreeNode('E')\n",
    "nodeF = TreeNode('F')\n",
    "nodeG = TreeNode('G')\n",
    "\n",
    "root.left = nodeA\n",
    "root.right = nodeB\n",
    "nodeA.left = nodeC\n",
    "nodeA.right = nodeD\n",
    "nodeB.left = nodeE\n",
    "nodeB.right = nodeF\n",
    "# nodeF.left = nodeG\n"
   ]
  },
  {
   "cell_type": "markdown",
   "id": "2802e805-6415-4160-8ce7-970ae817dc9f",
   "metadata": {},
   "source": [
    "# Height Of Tree Using Recursion"
   ]
  },
  {
   "cell_type": "code",
   "execution_count": 21,
   "id": "3ec888d9-6325-45dd-80c1-18562610bbbb",
   "metadata": {},
   "outputs": [
    {
     "name": "stdout",
     "output_type": "stream",
     "text": [
      "2\n"
     ]
    }
   ],
   "source": [
    "def height_of_tree(root):\n",
    "    if root is None:\n",
    "        return -1\n",
    "\n",
    "    left_height = height_of_tree(root.left) \n",
    "    right_height = height_of_tree(root.right) \n",
    "    return max(left_height, right_height) + 1\n",
    "\n",
    "print(height_of_tree(root))"
   ]
  },
  {
   "cell_type": "markdown",
   "id": "ca945848-2006-4bfa-9f26-77e791654eee",
   "metadata": {},
   "source": [
    "# Height of Tree Using Level Order Traversal"
   ]
  },
  {
   "cell_type": "code",
   "execution_count": 22,
   "id": "890aeed8-863f-4ba5-a76e-c7e9ac2a21b8",
   "metadata": {},
   "outputs": [
    {
     "data": {
      "text/plain": [
       "2"
      ]
     },
     "execution_count": 22,
     "metadata": {},
     "output_type": "execute_result"
    }
   ],
   "source": [
    "from collections import deque\n",
    "def height_of_tree_bfs(root):\n",
    "    if root is None:\n",
    "        return 0\n",
    "    q = deque([root])\n",
    "    height = 0\n",
    "\n",
    "    while q:\n",
    "        level_size = len(q)\n",
    "        for _ in range(level_size):\n",
    "            node = q.popleft()\n",
    "            if node.left:\n",
    "                q.append(node.left)\n",
    "            if node.right:\n",
    "                q.append(node.right)\n",
    "        height += 1\n",
    "    return height-1\n",
    "        \n",
    "height_of_tree_bfs(root)   \n",
    "    "
   ]
  },
  {
   "cell_type": "code",
   "execution_count": 23,
   "id": "a04792f4-236e-485d-8d74-a2e5ef552b73",
   "metadata": {},
   "outputs": [
    {
     "data": {
      "text/plain": [
       "3"
      ]
     },
     "execution_count": 23,
     "metadata": {},
     "output_type": "execute_result"
    }
   ],
   "source": [
    "from collections import deque\n",
    "\n",
    "def height_of_tree_bfs(root):\n",
    "    if root is None:\n",
    "        return 0\n",
    "    \n",
    "    q = deque([root])  # Initialize the queue with the root\n",
    "    height = 0  # Initialize the height\n",
    "    \n",
    "    while q:\n",
    "        level_size = len(q)  # Number of nodes at the current level\n",
    "        for _ in range(level_size):  # Process all nodes in the current level\n",
    "            node = q.popleft()  # Remove the node from the queue\n",
    "            if node.left:\n",
    "                q.append(node.left)  # Add the left child to the queue\n",
    "            if node.right:\n",
    "                q.append(node.right)  # Add the right child to the queue\n",
    "        height += 1  # Increment the height after processing the level\n",
    "    \n",
    "    return height\n",
    "height_of_tree_bfs(root)"
   ]
  },
  {
   "cell_type": "code",
   "execution_count": null,
   "id": "6f7acfd0-093e-404a-8ce7-739f66532803",
   "metadata": {},
   "outputs": [],
   "source": []
  }
 ],
 "metadata": {
  "kernelspec": {
   "display_name": "Python 3 (ipykernel)",
   "language": "python",
   "name": "python3"
  },
  "language_info": {
   "codemirror_mode": {
    "name": "ipython",
    "version": 3
   },
   "file_extension": ".py",
   "mimetype": "text/x-python",
   "name": "python",
   "nbconvert_exporter": "python",
   "pygments_lexer": "ipython3",
   "version": "3.13.0"
  }
 },
 "nbformat": 4,
 "nbformat_minor": 5
}
