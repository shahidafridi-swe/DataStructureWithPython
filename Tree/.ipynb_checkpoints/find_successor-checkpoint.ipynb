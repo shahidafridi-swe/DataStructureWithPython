{
 "cells": [
  {
   "cell_type": "markdown",
   "id": "b2f86c0d-c1da-4cb3-9980-a7d6d45e635d",
   "metadata": {},
   "source": [
    "## Inorder Successor in Binary Search Tree"
   ]
  },
  {
   "cell_type": "code",
   "execution_count": 30,
   "id": "4ae901cd-530d-45f1-b923-76082c63eaa1",
   "metadata": {},
   "outputs": [],
   "source": [
    "class Node:\n",
    "    def __init__(self, value):\n",
    "        self.data = value\n",
    "        self.left = None\n",
    "        self.right = None"
   ]
  },
  {
   "cell_type": "code",
   "execution_count": 31,
   "id": "f0bff7e2-36d4-48c4-9d81-2e5a340ba77f",
   "metadata": {},
   "outputs": [],
   "source": [
    " # Construct a BST\n",
    "    #            20\n",
    "    #          /    \\\n",
    "    #         8      22\n",
    "    #       /   \\\n",
    "    #      4    12\n",
    "    #          /  \\\n",
    "    #         10   14\n",
    "root = Node(20)\n",
    "root.left = Node(8)\n",
    "root.right = Node(22)\n",
    "root.left.left = Node(4)\n",
    "root.left.right = Node(12)\n",
    "root.left.right.left = Node(10)\n",
    "root.left.right.right = Node(14)"
   ]
  },
  {
   "cell_type": "markdown",
   "id": "f48fbdc0-8f76-4e62-8fb5-de9f99a9c812",
   "metadata": {},
   "source": [
    "### using inorder traverse (recursion) - time -> O(n)"
   ]
  },
  {
   "cell_type": "code",
   "execution_count": 42,
   "id": "12c98e58-1aa7-44b1-b623-7236affc77bd",
   "metadata": {},
   "outputs": [],
   "source": [
    "def successor(root, target): \n",
    "    inorder = []\n",
    "\n",
    "    def helper(root): \n",
    "        if root is None:\n",
    "            return\n",
    "        helper(root.left)\n",
    "        inorder.append(root.data)\n",
    "        helper(root.right)\n",
    "    helper(root)\n",
    "    # print(inorder)\n",
    "    if inorder.index(target)+1 >= len(inorder):\n",
    "        return None\n",
    "    else:\n",
    "        inorder[inorder.index(target)+1] "
   ]
  },
  {
   "cell_type": "code",
   "execution_count": 43,
   "id": "e0ee735a-7877-4ae2-aafb-abfc03bba409",
   "metadata": {},
   "outputs": [
    {
     "name": "stdout",
     "output_type": "stream",
     "text": [
      "None\n"
     ]
    }
   ],
   "source": [
    "print(successor(root, 22))"
   ]
  },
  {
   "cell_type": "code",
   "execution_count": null,
   "id": "50c03cc3-a0fe-435f-922b-969b7821c0fc",
   "metadata": {},
   "outputs": [],
   "source": []
  }
 ],
 "metadata": {
  "kernelspec": {
   "display_name": "Python 3 (ipykernel)",
   "language": "python",
   "name": "python3"
  },
  "language_info": {
   "codemirror_mode": {
    "name": "ipython",
    "version": 3
   },
   "file_extension": ".py",
   "mimetype": "text/x-python",
   "name": "python",
   "nbconvert_exporter": "python",
   "pygments_lexer": "ipython3",
   "version": "3.13.0"
  }
 },
 "nbformat": 4,
 "nbformat_minor": 5
}
