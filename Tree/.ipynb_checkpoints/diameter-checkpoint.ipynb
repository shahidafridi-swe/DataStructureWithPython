{
 "cells": [
  {
   "cell_type": "code",
   "execution_count": 14,
   "id": "a3d182ec-5fb4-4c1f-bdcb-6bdb120c52e9",
   "metadata": {},
   "outputs": [],
   "source": [
    "class TreeNode:\n",
    "    def __init__(self, data):\n",
    "        self.data = data\n",
    "        self.left = None\n",
    "        self.right = None\n",
    "\n",
    "\n",
    "root = TreeNode('R')\n",
    "nodeA = TreeNode('A')\n",
    "nodeB = TreeNode('B')\n",
    "nodeC = TreeNode('C')\n",
    "nodeD = TreeNode('D')\n",
    "nodeE = TreeNode('E')\n",
    "nodeF = TreeNode('F')\n",
    "nodeG = TreeNode('G')\n",
    "\n",
    "root.left = nodeA\n",
    "root.right = nodeB\n",
    "nodeA.left = nodeC\n",
    "nodeA.right = nodeD\n",
    "nodeB.left = nodeE\n",
    "nodeB.right = nodeF\n",
    "# nodeF.left = nodeG\n"
   ]
  },
  {
   "cell_type": "code",
   "execution_count": 15,
   "id": "49ba8004-ec57-441d-aa87-11534b138658",
   "metadata": {},
   "outputs": [
    {
     "data": {
      "text/plain": [
       "2"
      ]
     },
     "execution_count": 15,
     "metadata": {},
     "output_type": "execute_result"
    }
   ],
   "source": [
    "def height(root):\n",
    "    if root is None:\n",
    "        return -1\n",
    "    return 1 + max(height(root.left), height(root.right))\n",
    "\n",
    "height(root)"
   ]
  },
  {
   "cell_type": "code",
   "execution_count": 16,
   "id": "1aa9a491-9b01-4c20-b817-f23eb98498a0",
   "metadata": {},
   "outputs": [
    {
     "data": {
      "text/plain": [
       "[4]"
      ]
     },
     "execution_count": 16,
     "metadata": {},
     "output_type": "execute_result"
    }
   ],
   "source": [
    "def diameter(root):\n",
    "    mx = [0]\n",
    "\n",
    "    def dfs(root):\n",
    "        if root is None:\n",
    "            return -1\n",
    "        left_height = dfs(root.left) \n",
    "        right_height = dfs(root.right) \n",
    "        mx[0] = max(mx[0], left_height+right_height+2)\n",
    "        return 1 + max(left_height, right_height)\n",
    "    dfs(root)\n",
    "    return mx\n",
    "diameter(root)\n",
    "        "
   ]
  },
  {
   "cell_type": "code",
   "execution_count": null,
   "id": "78be414c-1b63-40e5-b27e-62ec7bf373f6",
   "metadata": {},
   "outputs": [],
   "source": []
  }
 ],
 "metadata": {
  "kernelspec": {
   "display_name": "Python 3 (ipykernel)",
   "language": "python",
   "name": "python3"
  },
  "language_info": {
   "codemirror_mode": {
    "name": "ipython",
    "version": 3
   },
   "file_extension": ".py",
   "mimetype": "text/x-python",
   "name": "python",
   "nbconvert_exporter": "python",
   "pygments_lexer": "ipython3",
   "version": "3.13.0"
  }
 },
 "nbformat": 4,
 "nbformat_minor": 5
}
