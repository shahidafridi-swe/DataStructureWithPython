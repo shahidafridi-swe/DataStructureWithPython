{
 "cells": [
  {
   "cell_type": "code",
   "execution_count": 3,
   "id": "f6326ce8-9466-4e4e-bd79-b2d14c4bf243",
   "metadata": {},
   "outputs": [],
   "source": [
    "class TreeNode:\n",
    "    def __init__(self, data):\n",
    "        self.data = data\n",
    "        self.left = None\n",
    "        self.right = None\n",
    "\n",
    "\n",
    "root = TreeNode('R')\n",
    "nodeA = TreeNode('A')\n",
    "nodeB = TreeNode('B')\n",
    "nodeC = TreeNode('C')\n",
    "nodeD = TreeNode('D')\n",
    "nodeE = TreeNode('E')\n",
    "nodeF = TreeNode('F')\n",
    "nodeG = TreeNode('G')\n",
    "\n",
    "root.left = nodeA\n",
    "root.right = nodeB\n",
    "nodeA.left = nodeC\n",
    "nodeA.right = nodeD\n",
    "nodeB.left = nodeE\n",
    "nodeB.right = nodeF\n",
    "nodeF.left = nodeG\n"
   ]
  },
  {
   "cell_type": "markdown",
   "id": "2802e805-6415-4160-8ce7-970ae817dc9f",
   "metadata": {},
   "source": [
    "# Height Of Tree Using Recursion"
   ]
  },
  {
   "cell_type": "code",
   "execution_count": 5,
   "id": "3ec888d9-6325-45dd-80c1-18562610bbbb",
   "metadata": {},
   "outputs": [
    {
     "name": "stdout",
     "output_type": "stream",
     "text": [
      "3\n"
     ]
    }
   ],
   "source": [
    "def height_of_tree(root):\n",
    "    if root is None:\n",
    "        return -1\n",
    "\n",
    "    left_height = height_of_tree(root.left) \n",
    "    right_height = height_of_tree(root.right) \n",
    "    return max(left_height, right_height) + 1\n",
    "\n",
    "print(height_of_tree(root))"
   ]
  },
  {
   "cell_type": "code",
   "execution_count": null,
   "id": "a697d738-f348-46fe-ad55-1b49ea67b5df",
   "metadata": {},
   "outputs": [],
   "source": []
  },
  {
   "cell_type": "code",
   "execution_count": null,
   "id": "890aeed8-863f-4ba5-a76e-c7e9ac2a21b8",
   "metadata": {},
   "outputs": [],
   "source": []
  }
 ],
 "metadata": {
  "kernelspec": {
   "display_name": "Python 3 (ipykernel)",
   "language": "python",
   "name": "python3"
  },
  "language_info": {
   "codemirror_mode": {
    "name": "ipython",
    "version": 3
   },
   "file_extension": ".py",
   "mimetype": "text/x-python",
   "name": "python",
   "nbconvert_exporter": "python",
   "pygments_lexer": "ipython3",
   "version": "3.13.0"
  }
 },
 "nbformat": 4,
 "nbformat_minor": 5
}
