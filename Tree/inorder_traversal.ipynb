{
 "cells": [
  {
   "cell_type": "markdown",
   "id": "95f0a63f-cf2b-41ac-b817-3a02fa4430d4",
   "metadata": {},
   "source": [
    "### Tree"
   ]
  },
  {
   "cell_type": "code",
   "execution_count": 18,
   "id": "411cb6eb-5ac5-4f69-b5ef-905127e0339a",
   "metadata": {},
   "outputs": [],
   "source": [
    "class TreeNode:\n",
    "    def __init__(self, data):\n",
    "        self.data = data\n",
    "        self.left = None\n",
    "        self.right = None\n",
    "\n",
    "\n",
    "root = TreeNode('R')\n",
    "nodeA = TreeNode('A')\n",
    "nodeB = TreeNode('B')\n",
    "nodeC = TreeNode('C')\n",
    "nodeD = TreeNode('D')\n",
    "nodeE = TreeNode('E')\n",
    "nodeF = TreeNode('F')\n",
    "nodeG = TreeNode('G')\n",
    "\n",
    "root.left = nodeA\n",
    "root.right = nodeB\n",
    "nodeA.left = nodeC\n",
    "nodeA.right = nodeD\n",
    "nodeB.left = nodeE\n",
    "nodeB.right = nodeF\n",
    "nodeF.left = nodeG\n"
   ]
  },
  {
   "cell_type": "markdown",
   "id": "945f2dad-20ad-4ba0-a2d3-8f3d63d305ff",
   "metadata": {},
   "source": [
    "### Inorder Traversal Using Recuirsion"
   ]
  },
  {
   "cell_type": "code",
   "execution_count": 19,
   "id": "df8cd89b-7782-4482-9fd4-bf9da0188dbf",
   "metadata": {},
   "outputs": [
    {
     "name": "stdout",
     "output_type": "stream",
     "text": [
      " \n",
      "C A D R E B G F "
     ]
    }
   ],
   "source": [
    "def inorder(root):\n",
    "    if root is None:\n",
    "        return \n",
    "    inorder(root.left)\n",
    "    print(root.data, end=\" \")\n",
    "    inorder(root.right)\n",
    "print(\" \")\n",
    "inorder(root)"
   ]
  },
  {
   "cell_type": "markdown",
   "id": "7d278bb1-b230-4d45-be46-1c8007e8be78",
   "metadata": {},
   "source": [
    "### Inorder Traversal Using Stack"
   ]
  },
  {
   "cell_type": "code",
   "execution_count": 20,
   "id": "d6c53686-c593-4607-bb37-0bd4903d03ac",
   "metadata": {},
   "outputs": [
    {
     "name": "stdout",
     "output_type": "stream",
     "text": [
      "C A D R E B G F "
     ]
    }
   ],
   "source": [
    "def inorder_using_stack(root):\n",
    "    current = root\n",
    "    stack = []\n",
    "    while current or stack:\n",
    "        while current:\n",
    "            stack.append(current)\n",
    "            current = current.left\n",
    "        current = stack.pop()\n",
    "        print(current.data, end=\" \")\n",
    "        current = current.right\n",
    "\n",
    "inorder_using_stack(root)\n",
    "        \n",
    "    "
   ]
  },
  {
   "cell_type": "markdown",
   "id": "09ac5f01-d73b-4004-abaf-19e71cf0a55a",
   "metadata": {},
   "source": [
    "### Inorder Using Morris Traverse"
   ]
  },
  {
   "cell_type": "code",
   "execution_count": 21,
   "id": "7730c7d1-142a-4028-a4aa-6ffe41cb2e78",
   "metadata": {},
   "outputs": [
    {
     "name": "stdout",
     "output_type": "stream",
     "text": [
      "C A D R E B G F "
     ]
    }
   ],
   "source": [
    "def inorder_using_morris(root):\n",
    "    current = root\n",
    "    while current:\n",
    "        if current.left is None:\n",
    "            print(current.data, end=\" \")\n",
    "            current = current.right\n",
    "        else:\n",
    "            predecessor = current.left\n",
    "            while predecessor.right and predecessor.right != current:\n",
    "                predecessor = predecessor.right\n",
    "            if predecessor.right is None:\n",
    "                predecessor.right = current\n",
    "                current = current.left\n",
    "            else:\n",
    "                predecessor.right = None\n",
    "                print(current.data, end=\" \")\n",
    "                current = current.right\n",
    "inorder_using_morris(root)\n",
    "                "
   ]
  },
  {
   "cell_type": "code",
   "execution_count": null,
   "id": "0b6a230a-2421-47d4-8216-74a86b3bc22f",
   "metadata": {},
   "outputs": [],
   "source": []
  },
  {
   "cell_type": "code",
   "execution_count": null,
   "id": "7a5a8592-d664-4ff5-93d6-2becc49df855",
   "metadata": {},
   "outputs": [],
   "source": []
  }
 ],
 "metadata": {
  "kernelspec": {
   "display_name": "Python 3 (ipykernel)",
   "language": "python",
   "name": "python3"
  },
  "language_info": {
   "codemirror_mode": {
    "name": "ipython",
    "version": 3
   },
   "file_extension": ".py",
   "mimetype": "text/x-python",
   "name": "python",
   "nbconvert_exporter": "python",
   "pygments_lexer": "ipython3",
   "version": "3.13.0"
  }
 },
 "nbformat": 4,
 "nbformat_minor": 5
}
