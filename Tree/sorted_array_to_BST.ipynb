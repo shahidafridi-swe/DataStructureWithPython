{
 "cells": [
  {
   "cell_type": "markdown",
   "id": "24a2588c-2d38-4447-bd3d-8aaf87e7c686",
   "metadata": {},
   "source": [
    "## Sorted Array to Balanced BST"
   ]
  },
  {
   "cell_type": "code",
   "execution_count": 15,
   "id": "e990450a-d896-453a-a864-aa5035edfb7e",
   "metadata": {},
   "outputs": [],
   "source": [
    "class TreeNode:\n",
    "    def __init__(self, data):\n",
    "        self.data = data\n",
    "        self.left = None\n",
    "        self.right = None"
   ]
  },
  {
   "cell_type": "markdown",
   "id": "1550019d-fbfa-42bc-864a-348541fe27f0",
   "metadata": {},
   "source": [
    "#### Array"
   ]
  },
  {
   "cell_type": "code",
   "execution_count": 16,
   "id": "0d27e81e-f7d9-4d4b-8c08-ba68d6b11860",
   "metadata": {},
   "outputs": [],
   "source": [
    "arr = [1,2,3,4,5,6,7,8,9]"
   ]
  },
  {
   "cell_type": "code",
   "execution_count": 17,
   "id": "81d2f0dd-3a76-449b-8443-d9d0f81994f4",
   "metadata": {},
   "outputs": [],
   "source": [
    "def sorted_array_to_BST(arr):\n",
    "    def helper(l, r):\n",
    "        if l > r:\n",
    "            return None\n",
    "        m = (l+r) // 2\n",
    "        root = TreeNode(arr[m])\n",
    "        root.left = helper(l, m-1)\n",
    "        root.right = helper(m+1, r)\n",
    "        return root\n",
    "    return helper(0, len(arr)-1)\n",
    "    "
   ]
  },
  {
   "cell_type": "code",
   "execution_count": 18,
   "id": "94d50d66-6be3-4a69-8c89-838140d5f908",
   "metadata": {},
   "outputs": [],
   "source": [
    "root = sorted_array_to_BST(arr)"
   ]
  },
  {
   "cell_type": "code",
   "execution_count": 19,
   "id": "dbd8c336-d08d-47f1-b84c-5ffec84bc96f",
   "metadata": {},
   "outputs": [
    {
     "name": "stdout",
     "output_type": "stream",
     "text": [
      " \n",
      "1 2 3 4 5 6 7 8 9 "
     ]
    }
   ],
   "source": [
    "def inorder(root):\n",
    "    if root is None:\n",
    "        return \n",
    "    inorder(root.left)\n",
    "    print(root.data, end=\" \")\n",
    "    inorder(root.right)\n",
    "print(\" \")\n",
    "inorder(root) "
   ]
  },
  {
   "cell_type": "code",
   "execution_count": null,
   "id": "4f8e3290-e565-4878-a8f4-2b24cc8b3258",
   "metadata": {},
   "outputs": [],
   "source": []
  }
 ],
 "metadata": {
  "kernelspec": {
   "display_name": "Python 3 (ipykernel)",
   "language": "python",
   "name": "python3"
  },
  "language_info": {
   "codemirror_mode": {
    "name": "ipython",
    "version": 3
   },
   "file_extension": ".py",
   "mimetype": "text/x-python",
   "name": "python",
   "nbconvert_exporter": "python",
   "pygments_lexer": "ipython3",
   "version": "3.13.0"
  }
 },
 "nbformat": 4,
 "nbformat_minor": 5
}
