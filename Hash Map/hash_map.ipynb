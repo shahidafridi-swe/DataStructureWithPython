{
 "cells": [
  {
   "cell_type": "code",
   "execution_count": 29,
   "id": "f2430d08-db10-4351-b8b5-26dcd99b92d8",
   "metadata": {},
   "outputs": [],
   "source": [
    "def get_hash(key):\n",
    "    h = 0\n",
    "    for char in key:\n",
    "        h += ord(char)\n",
    "    return h%100\n",
    "    "
   ]
  },
  {
   "cell_type": "code",
   "execution_count": 30,
   "id": "bb5dd5d0-6331-43ee-9e51-1d9489f41013",
   "metadata": {
    "scrolled": true
   },
   "outputs": [
    {
     "name": "stdout",
     "output_type": "stream",
     "text": [
      "10\n",
      "58\n",
      "58\n",
      "59\n",
      "59\n"
     ]
    }
   ],
   "source": [
    "print(get_hash('may 3'))\n",
    "print(get_hash('may 12'))\n",
    "print(get_hash('may 21'))\n",
    "print(get_hash('may 13'))\n",
    "print(get_hash('may 31'))"
   ]
  },
  {
   "cell_type": "code",
   "execution_count": null,
   "id": "b29653a0-d0c3-4e72-b5c3-519f71c15c71",
   "metadata": {},
   "outputs": [],
   "source": []
  },
  {
   "cell_type": "code",
   "execution_count": 40,
   "id": "e2562b07-52d7-4f65-8c84-c035b4bb9a8c",
   "metadata": {},
   "outputs": [],
   "source": [
    "class HashTable:\n",
    "    def __init__(self): \n",
    "        self.MAX = 10\n",
    "        self.arr = [[] for i in range(self.MAX)]\n",
    "        # self.arr = [None] * self.MAX\n",
    "        # self.arr = [[]] * self.MAX\n",
    "    def get_hash(self, key):\n",
    "        h = 0\n",
    "        for char in key:\n",
    "            h += ord(char)\n",
    "        return h% self.MAX\n",
    "    def __setitem__(self, key, value):\n",
    "        h = self.get_hash(key)\n",
    "        found = False\n",
    "        for index, element in enumerate(self.arr[h]):\n",
    "             if len(element) == 2 and element[0] == key:\n",
    "                 self.arr[h][index] = (key,value)\n",
    "                 found = True\n",
    "                 break\n",
    "        if not found:\n",
    "            self.arr[h].append((key,value))\n",
    "                 \n",
    "        # self.arr[h].append((key,value))\n",
    "\n",
    "    def __getitem__(self, key):\n",
    "        h = self.get_hash(key)\n",
    "        return self.arr[h]\n",
    "\n",
    "    def __delitem__(self, key):\n",
    "        h = self.get_hash(key)\n",
    "        self.arr[h] = None\n",
    "        "
   ]
  },
  {
   "cell_type": "code",
   "execution_count": 43,
   "id": "4580b4db-cfcb-4ee3-bbdf-193b6f4765cf",
   "metadata": {},
   "outputs": [],
   "source": [
    "t = HashTable()\n",
    "t['may 12'] = 12\n",
    "t['may 13'] = 13\n",
    "t['may 14'] = 14\n",
    "t['may 18'] = 18\n",
    "t['may 21'] = 21\n",
    "t['may 31'] = 31\n",
    "# print(t['may 12'])\n",
    "# print(t['may 13'])\n",
    "# print(t.arr)"
   ]
  },
  {
   "cell_type": "code",
   "execution_count": 44,
   "id": "d58b9157-5525-46dc-96df-0c76ed3da887",
   "metadata": {},
   "outputs": [
    {
     "data": {
      "text/plain": [
       "[[('may 14', 14)],\n",
       " [],\n",
       " [],\n",
       " [],\n",
       " [('may 18', 18)],\n",
       " [],\n",
       " [],\n",
       " [],\n",
       " [('may 12', 12), ('may1 2', 121), ('may 21', 21)],\n",
       " [('may 13', 13), ('may 31', 31)]]"
      ]
     },
     "execution_count": 44,
     "metadata": {},
     "output_type": "execute_result"
    }
   ],
   "source": [
    "t.arr"
   ]
  },
  {
   "cell_type": "code",
   "execution_count": null,
   "id": "8ba6c976-3e05-4a2b-bf89-4ab0e05561ce",
   "metadata": {},
   "outputs": [],
   "source": []
  },
  {
   "cell_type": "code",
   "execution_count": null,
   "id": "5ffdd12a-d26b-42dd-b63b-7373b9b514c7",
   "metadata": {},
   "outputs": [],
   "source": []
  },
  {
   "cell_type": "code",
   "execution_count": null,
   "id": "3e7e6b56-3902-481f-877d-2312f4f771e9",
   "metadata": {},
   "outputs": [],
   "source": []
  }
 ],
 "metadata": {
  "kernelspec": {
   "display_name": "Python 3 (ipykernel)",
   "language": "python",
   "name": "python3"
  },
  "language_info": {
   "codemirror_mode": {
    "name": "ipython",
    "version": 3
   },
   "file_extension": ".py",
   "mimetype": "text/x-python",
   "name": "python",
   "nbconvert_exporter": "python",
   "pygments_lexer": "ipython3",
   "version": "3.13.0"
  }
 },
 "nbformat": 4,
 "nbformat_minor": 5
}
