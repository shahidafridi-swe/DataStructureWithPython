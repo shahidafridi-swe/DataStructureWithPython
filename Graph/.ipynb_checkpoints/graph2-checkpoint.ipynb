{
 "cells": [
  {
   "cell_type": "code",
   "execution_count": 1,
   "id": "d381f431-2ff9-44d0-89ed-9efb7301f5c4",
   "metadata": {},
   "outputs": [],
   "source": [
    "routes = [\n",
    "    (\"Dhaka\", \"Rajshahi\"), \n",
    "    (\"Dhaka\", \"Khulna\"), \n",
    "    (\"Dhaka\", \"Barisal\"), \n",
    "    (\"Rajshahi\", \"Khulna\"), \n",
    "    (\"Rajshahi\", \"Rangpur\"), \n",
    "    (\"Sylhet\", \"Rangpur\"), \n",
    "    (\"Sylhet\", \"Chittagong\"), \n",
    "]"
   ]
  },
  {
   "cell_type": "code",
   "execution_count": 2,
   "id": "b3301d4f-e452-4e48-a488-f0402bc7e981",
   "metadata": {},
   "outputs": [],
   "source": [
    "class Graph:\n",
    "    def __init__(self, edges):\n",
    "        self.edges = edges\n",
    "        "
   ]
  },
  {
   "cell_type": "code",
   "execution_count": 3,
   "id": "28a7953f-bbca-4cf3-abf8-a92c4ebe0055",
   "metadata": {},
   "outputs": [],
   "source": [
    "route_graph = Graph(routes)"
   ]
  },
  {
   "cell_type": "code",
   "execution_count": null,
   "id": "2f4e5b12-bc1e-4c28-bedf-c5aac9a3da57",
   "metadata": {},
   "outputs": [],
   "source": []
  }
 ],
 "metadata": {
  "kernelspec": {
   "display_name": "Python 3 (ipykernel)",
   "language": "python",
   "name": "python3"
  },
  "language_info": {
   "codemirror_mode": {
    "name": "ipython",
    "version": 3
   },
   "file_extension": ".py",
   "mimetype": "text/x-python",
   "name": "python",
   "nbconvert_exporter": "python",
   "pygments_lexer": "ipython3",
   "version": "3.13.0"
  }
 },
 "nbformat": 4,
 "nbformat_minor": 5
}
