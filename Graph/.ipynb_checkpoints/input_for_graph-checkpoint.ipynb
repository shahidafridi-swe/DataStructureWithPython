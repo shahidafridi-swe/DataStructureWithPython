{
 "cells": [
  {
   "cell_type": "code",
   "execution_count": 9,
   "id": "36c0a972-6493-4717-8bbf-7b46cff72844",
   "metadata": {},
   "outputs": [],
   "source": [
    "def input_graph(node, edge):\n",
    "    arr = [[0]*node for _ in range(node)]\n",
    "\n",
    "    for i in range(edge): \n",
    "        x, y = map(int, input().split())\n",
    "        arr[x][y] = 1\n",
    "        arr[y][x] = 1\n",
    "\n",
    "    return arr"
   ]
  },
  {
   "cell_type": "code",
   "execution_count": 10,
   "id": "a9f87bac-3096-4088-9971-f8c9ab5acf25",
   "metadata": {},
   "outputs": [
    {
     "name": "stdin",
     "output_type": "stream",
     "text": [
      " 0 1\n",
      " 0 2\n",
      " 1 2\n",
      " 1 3\n",
      " 1 4\n",
      " 3 4\n"
     ]
    },
    {
     "data": {
      "text/plain": [
       "[[0, 1, 1, 0, 0],\n",
       " [1, 0, 1, 1, 1],\n",
       " [1, 1, 0, 0, 0],\n",
       " [0, 1, 0, 0, 1],\n",
       " [0, 1, 0, 1, 0]]"
      ]
     },
     "execution_count": 10,
     "metadata": {},
     "output_type": "execute_result"
    }
   ],
   "source": [
    "input_graph(5,6)"
   ]
  },
  {
   "cell_type": "code",
   "execution_count": null,
   "id": "ff2918c8-1071-441f-b70a-7d027593d656",
   "metadata": {},
   "outputs": [],
   "source": []
  }
 ],
 "metadata": {
  "kernelspec": {
   "display_name": "Python 3 (ipykernel)",
   "language": "python",
   "name": "python3"
  },
  "language_info": {
   "codemirror_mode": {
    "name": "ipython",
    "version": 3
   },
   "file_extension": ".py",
   "mimetype": "text/x-python",
   "name": "python",
   "nbconvert_exporter": "python",
   "pygments_lexer": "ipython3",
   "version": "3.13.0"
  }
 },
 "nbformat": 4,
 "nbformat_minor": 5
}
