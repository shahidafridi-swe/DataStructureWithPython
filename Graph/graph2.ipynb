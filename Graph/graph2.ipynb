{
 "cells": [
  {
   "cell_type": "code",
   "execution_count": 1,
   "id": "d381f431-2ff9-44d0-89ed-9efb7301f5c4",
   "metadata": {},
   "outputs": [],
   "source": [
    "routes = [\n",
    "    (\"Dhaka\", \"Rajshahi\"), \n",
    "    (\"Dhaka\", \"Khulna\"), \n",
    "    (\"Dhaka\", \"Barisal\"), \n",
    "    (\"Rajshahi\", \"Khulna\"), \n",
    "    (\"Rajshahi\", \"Rangpur\"), \n",
    "    (\"Sylhet\", \"Rangpur\"), \n",
    "    (\"Sylhet\", \"Chittagong\"), \n",
    "]"
   ]
  },
  {
   "cell_type": "code",
   "execution_count": 9,
   "id": "b3301d4f-e452-4e48-a488-f0402bc7e981",
   "metadata": {},
   "outputs": [],
   "source": [
    "class Graph:\n",
    "    def __init__(self, edges):\n",
    "        self.edges = edges\n",
    "        self.graph_dict = {}\n",
    "        for start, end in self.edges:\n",
    "            if start in self.graph_dict:\n",
    "                self.graph_dict[start].append(end)\n",
    "            else:\n",
    "                self.graph_dict[start] = [end]\n",
    "        print(self.graph_dict)\n",
    "\n",
    "    def get_paths(self, start, end, path=[]): \n",
    "        path = path+[start]\n",
    "        if start == end:\n",
    "            return path \n",
    "        if start not in self.graph_dict:\n",
    "            return [] \n",
    "\n",
    "        for node in self.graph_dict[start]: \n",
    "            if node not in path:"
   ]
  },
  {
   "cell_type": "code",
   "execution_count": 10,
   "id": "28a7953f-bbca-4cf3-abf8-a92c4ebe0055",
   "metadata": {},
   "outputs": [
    {
     "name": "stdout",
     "output_type": "stream",
     "text": [
      "{'Dhaka': ['Rajshahi', 'Khulna', 'Barisal'], 'Rajshahi': ['Khulna', 'Rangpur'], 'Sylhet': ['Rangpur', 'Chittagong']}\n"
     ]
    }
   ],
   "source": [
    "route_graph = Graph(routes)"
   ]
  },
  {
   "cell_type": "code",
   "execution_count": 12,
   "id": "2f4e5b12-bc1e-4c28-bedf-c5aac9a3da57",
   "metadata": {},
   "outputs": [
    {
     "data": {
      "text/plain": [
       "[]"
      ]
     },
     "execution_count": 12,
     "metadata": {},
     "output_type": "execute_result"
    }
   ],
   "source": [
    "route_graph.get_paths(\"Rangpur\", \"Dhaka\")"
   ]
  },
  {
   "cell_type": "code",
   "execution_count": null,
   "id": "989b4dc8-01bd-49c0-95b0-b9848a3f9f4e",
   "metadata": {},
   "outputs": [],
   "source": []
  }
 ],
 "metadata": {
  "kernelspec": {
   "display_name": "Python 3 (ipykernel)",
   "language": "python",
   "name": "python3"
  },
  "language_info": {
   "codemirror_mode": {
    "name": "ipython",
    "version": 3
   },
   "file_extension": ".py",
   "mimetype": "text/x-python",
   "name": "python",
   "nbconvert_exporter": "python",
   "pygments_lexer": "ipython3",
   "version": "3.13.0"
  }
 },
 "nbformat": 4,
 "nbformat_minor": 5
}
