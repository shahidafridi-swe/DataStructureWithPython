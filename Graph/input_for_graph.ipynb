{
 "cells": [
  {
   "cell_type": "code",
   "execution_count": 17,
   "id": "36c0a972-6493-4717-8bbf-7b46cff72844",
   "metadata": {},
   "outputs": [],
   "source": [
    "def input_graph(node, edge):\n",
    "    arr = [[0]*node for _ in range(node)]\n",
    "\n",
    "    for i in range(edge): \n",
    "        x, y = map(int, input().split())\n",
    "        arr[x][y] = 1\n",
    "        arr[y][x] = 1\n",
    "\n",
    "    return arr"
   ]
  },
  {
   "cell_type": "code",
   "execution_count": 18,
   "id": "a9f87bac-3096-4088-9971-f8c9ab5acf25",
   "metadata": {},
   "outputs": [
    {
     "name": "stdin",
     "output_type": "stream",
     "text": [
      " 0 1\n",
      " 0 2\n",
      " 1 2\n",
      " 1 3\n",
      " 1 4\n",
      " 3 4\n"
     ]
    }
   ],
   "source": [
    "graph = input_graph(5,6)"
   ]
  },
  {
   "cell_type": "code",
   "execution_count": 19,
   "id": "ff2918c8-1071-441f-b70a-7d027593d656",
   "metadata": {},
   "outputs": [],
   "source": [
    "def print_graph(graph):\n",
    "    row = len(graph)\n",
    "    col =  len(graph[0])\n",
    "\n",
    "    for x in range(row):\n",
    "        for y in range(col):\n",
    "            print(graph[x][y], end=\" \")\n",
    "        print(\"\")\n",
    "    "
   ]
  },
  {
   "cell_type": "code",
   "execution_count": 20,
   "id": "f4d61c59-3236-463f-b17b-7363ce2a3f51",
   "metadata": {},
   "outputs": [
    {
     "name": "stdout",
     "output_type": "stream",
     "text": [
      "0 1 1 0 0 \n",
      "1 0 1 1 1 \n",
      "1 1 0 0 0 \n",
      "0 1 0 0 1 \n",
      "0 1 0 1 0 \n"
     ]
    }
   ],
   "source": [
    "print_graph(graph)"
   ]
  },
  {
   "cell_type": "code",
   "execution_count": 25,
   "id": "f79cb0db-a907-41c9-85c9-f9bc9cb6627c",
   "metadata": {},
   "outputs": [],
   "source": [
    "def find_neighbors(graph, node): \n",
    "    arr = []\n",
    "    for i in range(len(graph)):\n",
    "        if graph[node][i] == 1: \n",
    "            arr.append(i)\n",
    "    return arr"
   ]
  },
  {
   "cell_type": "code",
   "execution_count": 27,
   "id": "99c9d704-0207-4617-9b75-9c4a2f42f559",
   "metadata": {},
   "outputs": [
    {
     "data": {
      "text/plain": [
       "[0, 2, 3, 4]"
      ]
     },
     "execution_count": 27,
     "metadata": {},
     "output_type": "execute_result"
    }
   ],
   "source": [
    "find_neighbors(graph, 1)"
   ]
  },
  {
   "cell_type": "code",
   "execution_count": null,
   "id": "8f442123-54b1-475b-b613-067717385c1f",
   "metadata": {},
   "outputs": [],
   "source": []
  }
 ],
 "metadata": {
  "kernelspec": {
   "display_name": "Python 3 (ipykernel)",
   "language": "python",
   "name": "python3"
  },
  "language_info": {
   "codemirror_mode": {
    "name": "ipython",
    "version": 3
   },
   "file_extension": ".py",
   "mimetype": "text/x-python",
   "name": "python",
   "nbconvert_exporter": "python",
   "pygments_lexer": "ipython3",
   "version": "3.13.0"
  }
 },
 "nbformat": 4,
 "nbformat_minor": 5
}
