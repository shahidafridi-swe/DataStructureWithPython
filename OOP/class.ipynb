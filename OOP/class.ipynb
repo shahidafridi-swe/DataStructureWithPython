{
 "cells": [
  {
   "cell_type": "code",
   "execution_count": 1,
   "id": "65344547-df40-420c-821f-78d4ab4792d6",
   "metadata": {},
   "outputs": [],
   "source": [
    "class Dog:\n",
    "    name = \"Doglas\"\n",
    "    color = \"brown\"\n",
    "\n",
    "    def eat(self):\n",
    "        print(\"I eat Bones\")\n",
    "        "
   ]
  },
  {
   "cell_type": "code",
   "execution_count": 3,
   "id": "744136f6-c7fd-4717-9b2a-3c78975f0702",
   "metadata": {},
   "outputs": [
    {
     "name": "stdout",
     "output_type": "stream",
     "text": [
      "Doglas\n"
     ]
    }
   ],
   "source": [
    "doglas = Dog()\n",
    "print(doglas.name)"
   ]
  },
  {
   "cell_type": "code",
   "execution_count": 4,
   "id": "1bb89463-d9aa-4235-ae10-431fddb1d62e",
   "metadata": {},
   "outputs": [
    {
     "name": "stdout",
     "output_type": "stream",
     "text": [
      "brown\n"
     ]
    }
   ],
   "source": [
    "print(doglas.color)"
   ]
  },
  {
   "cell_type": "code",
   "execution_count": 5,
   "id": "3c1f3cfb-61c0-4aa4-842b-7360af09beef",
   "metadata": {},
   "outputs": [
    {
     "name": "stdout",
     "output_type": "stream",
     "text": [
      "I eat Bones\n"
     ]
    }
   ],
   "source": [
    "doglas.eat()"
   ]
  },
  {
   "cell_type": "code",
   "execution_count": null,
   "id": "67d98639-9187-4b35-8d2e-473dd00b9650",
   "metadata": {},
   "outputs": [],
   "source": [
    "\n"
   ]
  },
  {
   "cell_type": "code",
   "execution_count": 11,
   "id": "d7bc4ffb-fb18-47dd-b123-7cebf8a0b988",
   "metadata": {},
   "outputs": [],
   "source": [
    "class Cow:\n",
    "    animal = \"cow\" # class Variable\n",
    "    def __init__(self, name, color, age):\n",
    "        self.name = name     #Instance Variable\n",
    "        self.color = color   #Instance Variable\n",
    "        self.age = age       #Instance Variable\n",
    "\n",
    "    def __str__(self):\n",
    "        return f\"{self.animal}: {self.name} - {self.color} - {self.age} \"\n",
    "\n",
    "    def setPrice(self, price):\n",
    "        self.price = price\n",
    "\n",
    "    def getPrice(self):\n",
    "        return self.price"
   ]
  },
  {
   "cell_type": "code",
   "execution_count": 12,
   "id": "76606b30-2310-43c5-b252-44b701c28d2b",
   "metadata": {},
   "outputs": [],
   "source": [
    "hamba = Cow(\"Hamba\",\"White\",\"2 years\")"
   ]
  },
  {
   "cell_type": "code",
   "execution_count": 13,
   "id": "6a6a5de4-e56c-409a-86a2-a7d91bd3bf16",
   "metadata": {},
   "outputs": [
    {
     "name": "stdout",
     "output_type": "stream",
     "text": [
      "cow: Hamba - White - 2 years \n"
     ]
    }
   ],
   "source": [
    "print(hamba)"
   ]
  },
  {
   "cell_type": "code",
   "execution_count": 18,
   "id": "99debc61-ca37-4ab5-9f64-2d7a06bc6ba5",
   "metadata": {},
   "outputs": [
    {
     "data": {
      "text/plain": [
       "500000"
      ]
     },
     "execution_count": 18,
     "metadata": {},
     "output_type": "execute_result"
    }
   ],
   "source": [
    "hamba.setPrice(500000)\n",
    "hamba.getPrice()"
   ]
  },
  {
   "cell_type": "code",
   "execution_count": 20,
   "id": "d4a14f90-3e89-49c5-aa84-12822b854978",
   "metadata": {},
   "outputs": [
    {
     "data": {
      "text/plain": [
       "500000"
      ]
     },
     "execution_count": 20,
     "metadata": {},
     "output_type": "execute_result"
    }
   ],
   "source": [
    "hamba.price"
   ]
  },
  {
   "cell_type": "code",
   "execution_count": null,
   "id": "7add8986-23fb-4ed2-94d4-26104eda181a",
   "metadata": {},
   "outputs": [],
   "source": []
  },
  {
   "cell_type": "code",
   "execution_count": null,
   "id": "fd12585c-0b39-4098-8a8c-ff59b8844b5d",
   "metadata": {},
   "outputs": [],
   "source": []
  }
 ],
 "metadata": {
  "kernelspec": {
   "display_name": "Python 3 (ipykernel)",
   "language": "python",
   "name": "python3"
  },
  "language_info": {
   "codemirror_mode": {
    "name": "ipython",
    "version": 3
   },
   "file_extension": ".py",
   "mimetype": "text/x-python",
   "name": "python",
   "nbconvert_exporter": "python",
   "pygments_lexer": "ipython3",
   "version": "3.13.0"
  }
 },
 "nbformat": 4,
 "nbformat_minor": 5
}
