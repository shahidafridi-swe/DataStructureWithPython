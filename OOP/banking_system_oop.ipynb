{
 "cells": [
  {
   "cell_type": "code",
   "execution_count": 139,
   "id": "2de4ad1d-5738-4aa8-8595-d3ff4d3ffeda",
   "metadata": {},
   "outputs": [],
   "source": [
    "from abc import ABC, abstractmethod\n",
    "\n",
    "class BankAccount(ABC): \n",
    "    def __init__(self, account_number, balance=0): \n",
    "        self.__balance = balance\n",
    "        self.account_number = account_number\n",
    "\n",
    "    @abstractmethod\n",
    "    def deposit(self, amount):\n",
    "        pass \n",
    "\n",
    "    @abstractmethod\n",
    "    def withdraw(self, amount):\n",
    "        pass \n",
    "    \n",
    "    @property\n",
    "    def check_balance(self): \n",
    "        return self.__balance\n",
    "\n",
    "    @check_balance.setter\n",
    "    def set_balance(self, amount): \n",
    "        self.__balance = amount   \n",
    "\n",
    "class SavingsAccount(BankAccount): \n",
    "    def __init__(self, account_number, balance=0): \n",
    "        super().__init__(account_number, balance)\n",
    "\n",
    "    def deposit(self, amount): \n",
    "        if amount < 0:\n",
    "            return \"Give a positive amount to deposit\"\n",
    "        self.set_balance += amount\n",
    "\n",
    "    def withdraw(self, amount):\n",
    "        if amount < 0:\n",
    "            return \"Give a positive amount to withdraw\"\n",
    "        if self.check_balance < amount:\n",
    "            return \"Insufficent Balance\"\n",
    "        if self.check_balance - amount <= 500:\n",
    "            return f\"You can't withdraw {amount} at this moment, You have to keep at least 500 BDT in your account.\"\n",
    "        \n",
    "        self.set_balance -= amount\n",
    "        return f\"{amount} withdrawn successfully!\"\n",
    "\n",
    "class CheckingAccount(BankAccount): \n",
    "    def __init__(self, account_number, balance=0): \n",
    "        super().__init__(account_number, balance)\n",
    "\n",
    "    def deposit(self, amount): \n",
    "        if amount < 0:\n",
    "            return \"Give a positive amount to deposit\"\n",
    "        self.set_balance += amount\n",
    "\n",
    "    def withdraw(self, amount):\n",
    "        if amount < 0:\n",
    "            return \"Give a positive amount to withdraw\"\n",
    "        if self.check_balance < amount+1:\n",
    "            return \"Insufficent Balance\"\n",
    "        self.set_balance -= (amount+1)\n",
    "        return f\"{amount} withdrawn successfully! with charged 1 BDT\"\n",
    "        "
   ]
  },
  {
   "cell_type": "code",
   "execution_count": 140,
   "id": "d9c6c7cf-1c45-4e22-af88-dae875379c76",
   "metadata": {},
   "outputs": [],
   "source": [
    "a = SavingsAccount(123, 2000)\n",
    "b = CheckingAccount(456, 2000)\n",
    "\n"
   ]
  },
  {
   "cell_type": "code",
   "execution_count": 141,
   "id": "2e641563-4c1c-4536-a2cd-85f21450585e",
   "metadata": {},
   "outputs": [
    {
     "data": {
      "text/plain": [
       "'1000 withdrawn successfully!'"
      ]
     },
     "execution_count": 141,
     "metadata": {},
     "output_type": "execute_result"
    }
   ],
   "source": [
    "a.withdraw(1000)\n"
   ]
  },
  {
   "cell_type": "code",
   "execution_count": 142,
   "id": "b87911cb-dd99-4e5a-bccb-82784c324b39",
   "metadata": {},
   "outputs": [
    {
     "data": {
      "text/plain": [
       "'1000 withdrawn successfully! with charged 1 BDT'"
      ]
     },
     "execution_count": 142,
     "metadata": {},
     "output_type": "execute_result"
    }
   ],
   "source": [
    "b.withdraw(1000)"
   ]
  },
  {
   "cell_type": "code",
   "execution_count": 143,
   "id": "9c387216-638b-454c-a133-879bc59608e9",
   "metadata": {},
   "outputs": [
    {
     "data": {
      "text/plain": [
       "\"You can't withdraw 500 at this moment, You have to keep at least 500 BDT in your account.\""
      ]
     },
     "execution_count": 143,
     "metadata": {},
     "output_type": "execute_result"
    }
   ],
   "source": [
    "a.withdraw(500)"
   ]
  },
  {
   "cell_type": "code",
   "execution_count": 144,
   "id": "30bf5568-aa1a-4159-86c5-a87482eae59b",
   "metadata": {},
   "outputs": [
    {
     "data": {
      "text/plain": [
       "'500 withdrawn successfully! with charged 1 BDT'"
      ]
     },
     "execution_count": 144,
     "metadata": {},
     "output_type": "execute_result"
    }
   ],
   "source": [
    "b.withdraw(500)"
   ]
  },
  {
   "cell_type": "code",
   "execution_count": 145,
   "id": "1a0eb8a8-7189-4e66-b515-cac5f53eaa43",
   "metadata": {},
   "outputs": [
    {
     "data": {
      "text/plain": [
       "1000"
      ]
     },
     "execution_count": 145,
     "metadata": {},
     "output_type": "execute_result"
    }
   ],
   "source": [
    "a.check_balance"
   ]
  },
  {
   "cell_type": "code",
   "execution_count": 146,
   "id": "f2b830f1-4d1e-49e7-97f9-f6bd3e4e821a",
   "metadata": {},
   "outputs": [
    {
     "data": {
      "text/plain": [
       "498"
      ]
     },
     "execution_count": 146,
     "metadata": {},
     "output_type": "execute_result"
    }
   ],
   "source": [
    "b.check_balance"
   ]
  },
  {
   "cell_type": "code",
   "execution_count": null,
   "id": "6857b54e-5d11-4af2-ae69-e4560749535b",
   "metadata": {},
   "outputs": [],
   "source": []
  }
 ],
 "metadata": {
  "kernelspec": {
   "display_name": "Python 3 (ipykernel)",
   "language": "python",
   "name": "python3"
  },
  "language_info": {
   "codemirror_mode": {
    "name": "ipython",
    "version": 3
   },
   "file_extension": ".py",
   "mimetype": "text/x-python",
   "name": "python",
   "nbconvert_exporter": "python",
   "pygments_lexer": "ipython3",
   "version": "3.13.0"
  }
 },
 "nbformat": 4,
 "nbformat_minor": 5
}
