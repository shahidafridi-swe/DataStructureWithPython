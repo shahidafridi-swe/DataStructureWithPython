{
 "cells": [
  {
   "cell_type": "markdown",
   "id": "e96bd2b0-68d4-4024-98d2-61d23743d102",
   "metadata": {},
   "source": [
    "# Inheritence"
   ]
  },
  {
   "cell_type": "markdown",
   "id": "3b6857a9-ac51-4100-bf0a-9a97b0166db8",
   "metadata": {},
   "source": [
    "#### Subclassing (Calling constructor of parent class)"
   ]
  },
  {
   "cell_type": "code",
   "execution_count": 20,
   "id": "3691d482-e242-44f4-9d86-969e866f520e",
   "metadata": {},
   "outputs": [],
   "source": [
    "class Person:\n",
    "    def __init__(self, name, id_num):\n",
    "        self.name = name \n",
    "        self.idNumber = id_num\n",
    "\n",
    "    def display(self):\n",
    "        print(f\"Person Details:: Name:{self.name}, ID:{self.idNumber}\")\n",
    "\n",
    "class Employee(Person):\n",
    "    def __init__(self, name, id_num, salary, post):   \n",
    "        self.salary = salary\n",
    "        self.post = post\n",
    "\n",
    "        # invoking the __init__ of the parent class\n",
    "        Person.__init__(self, name, id_num)\n",
    "\n",
    "    def details(self):\n",
    "        print(f\"Employee Details:: Name:{self.name}, Post:{self.post}\")\n"
   ]
  },
  {
   "cell_type": "code",
   "execution_count": 21,
   "id": "42606bb7-08f5-4ff6-b1c9-527b66720f87",
   "metadata": {},
   "outputs": [],
   "source": [
    "shahid = Employee(\"Shahid Afridi\", \"378\", \"30000\", \"Software Engineer\")"
   ]
  },
  {
   "cell_type": "code",
   "execution_count": 22,
   "id": "0f83fb79-0e32-4290-9d3c-2698397ba2f6",
   "metadata": {},
   "outputs": [
    {
     "name": "stdout",
     "output_type": "stream",
     "text": [
      "Employee Details:: Name:Shahid Afridi, Post:Software Engineer\n",
      "Person Details:: Name:Shahid Afridi, ID:378\n"
     ]
    }
   ],
   "source": [
    "shahid.details()\n",
    "shahid.display()"
   ]
  },
  {
   "cell_type": "code",
   "execution_count": null,
   "id": "049314c7-494b-4790-9950-82fb6dfcb491",
   "metadata": {},
   "outputs": [],
   "source": []
  },
  {
   "cell_type": "markdown",
   "id": "ab38d476-6f2e-4029-98df-9859d88cd3d7",
   "metadata": {},
   "source": [
    "### The super() Function"
   ]
  },
  {
   "cell_type": "code",
   "execution_count": 25,
   "id": "599336fc-6700-4a07-a221-8543f9e85261",
   "metadata": {},
   "outputs": [],
   "source": [
    "class Animal:  \n",
    "    def __init__(self, name):  \n",
    "        self.name = name \n",
    "\n",
    "    def info(self): \n",
    "        print(f\"Animal Details:: Name:{self.name}\")\n",
    "\n",
    "class Cat(Animal): \n",
    "    def __init__(self, name, color): \n",
    "        self.cName = name\n",
    "        self.color = color \n",
    "        super().__init__(\"Cat\")\n",
    "\n",
    "    def details(self):\n",
    "        print(f\"Cat Details:: Name:{self.cName} Category:{self.name}\")\n",
    "    "
   ]
  },
  {
   "cell_type": "code",
   "execution_count": 26,
   "id": "028bc36a-96f6-4a8d-b3c3-472401d92ad8",
   "metadata": {},
   "outputs": [],
   "source": [
    "tom = Cat(\"Mr. Tomas\", \"Sky Blue\")"
   ]
  },
  {
   "cell_type": "code",
   "execution_count": 27,
   "id": "dee711a4-a7f6-44dc-9b86-7c523fcbd297",
   "metadata": {},
   "outputs": [
    {
     "name": "stdout",
     "output_type": "stream",
     "text": [
      "Cat Details:: Name:Mr. Tomas Category:Cat\n",
      "Animal Details:: Name:Cat\n"
     ]
    }
   ],
   "source": [
    "tom.details()\n",
    "tom.info()"
   ]
  },
  {
   "cell_type": "code",
   "execution_count": null,
   "id": "ed689ecc-69a5-42e6-affe-2ea1bb635c01",
   "metadata": {},
   "outputs": [],
   "source": []
  },
  {
   "cell_type": "markdown",
   "id": "50bd2d0b-9e78-474a-b429-84a335f217fc",
   "metadata": {},
   "source": [
    "### Multiple Inheritence"
   ]
  },
  {
   "cell_type": "code",
   "execution_count": 32,
   "id": "cdda1aed-0c16-493a-8b79-2df73037a93f",
   "metadata": {},
   "outputs": [],
   "source": [
    "class Base1:  \n",
    "    def __init__(self):  \n",
    "        self.str1 = \"Base 1\"\n",
    "        print(\"Base 1\")\n",
    "class Base2:  \n",
    "    def __init__(self):  \n",
    "        self.str2 = \"Base 2\"\n",
    "        print(\"Base 2\")\n",
    "\n",
    "class Child(Base1, Base2): \n",
    "    def __init__(self): \n",
    "\n",
    "        Base1.__init__(self)\n",
    "        Base2.__init__(self)\n",
    "        print(\"derived\")   \n",
    "\n",
    "    def printstrs(self):\n",
    "        print(self.str1, self.str2)"
   ]
  },
  {
   "cell_type": "code",
   "execution_count": 33,
   "id": "c7cda81c-491d-4932-840d-c77154edc759",
   "metadata": {},
   "outputs": [
    {
     "name": "stdout",
     "output_type": "stream",
     "text": [
      "Base 1\n",
      "Base 2\n",
      "derived\n"
     ]
    }
   ],
   "source": [
    "test = Child()"
   ]
  },
  {
   "cell_type": "code",
   "execution_count": 34,
   "id": "0e5ebcee-3109-4304-9a9a-ca7b0bbaf860",
   "metadata": {},
   "outputs": [
    {
     "name": "stdout",
     "output_type": "stream",
     "text": [
      "Base 1 Base 2\n"
     ]
    }
   ],
   "source": [
    "test.printstrs()"
   ]
  },
  {
   "cell_type": "code",
   "execution_count": null,
   "id": "a492cf2c-387e-41e6-9c17-d507543f8730",
   "metadata": {},
   "outputs": [],
   "source": []
  }
 ],
 "metadata": {
  "kernelspec": {
   "display_name": "Python 3 (ipykernel)",
   "language": "python",
   "name": "python3"
  },
  "language_info": {
   "codemirror_mode": {
    "name": "ipython",
    "version": 3
   },
   "file_extension": ".py",
   "mimetype": "text/x-python",
   "name": "python",
   "nbconvert_exporter": "python",
   "pygments_lexer": "ipython3",
   "version": "3.13.0"
  }
 },
 "nbformat": 4,
 "nbformat_minor": 5
}
