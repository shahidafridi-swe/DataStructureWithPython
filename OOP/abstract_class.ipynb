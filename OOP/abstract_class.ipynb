{
 "cells": [
  {
   "cell_type": "markdown",
   "id": "023b1e0a-add6-419b-b661-03ef82c2cc40",
   "metadata": {},
   "source": [
    "# Abstract Class / Abstract Base Class / abstractmethod"
   ]
  },
  {
   "cell_type": "code",
   "execution_count": 210,
   "id": "f06e0b55-9291-4c85-b47e-09e68a0d1bb9",
   "metadata": {},
   "outputs": [],
   "source": [
    "from abc import ABC, abstractmethod"
   ]
  },
  {
   "cell_type": "code",
   "execution_count": 211,
   "id": "a04ef40a-270a-4b20-873d-35e2a360ddd8",
   "metadata": {},
   "outputs": [],
   "source": [
    "class Polygon(ABC):\n",
    "    @abstractmethod\n",
    "    def noOfSides(self):\n",
    "        print(\"It's a Polygon\")"
   ]
  },
  {
   "cell_type": "markdown",
   "id": "ec4542fe-3d2e-4470-89f3-600a16a23ba0",
   "metadata": {},
   "source": [
    "abstractmethod is use for, the method must be implented in subclass of an abstract class where which method is declared in abstract class as abstractmethod. And ABC is use for create a abstract_class. Without inherite the ABC the @abstractmethod will not work."
   ]
  },
  {
   "cell_type": "code",
   "execution_count": 212,
   "id": "82953ada-6134-44f5-807a-e7b63a2f854a",
   "metadata": {},
   "outputs": [],
   "source": [
    "class Triangle(Polygon):\n",
    "    name = \"Triangle\"\n",
    "    def noOfSides(self):  # overriding abstract method\n",
    "        print(\"I have 3 sides\")"
   ]
  },
  {
   "cell_type": "code",
   "execution_count": 213,
   "id": "3455fc85-9c82-44be-bcc7-06f74a5c8f13",
   "metadata": {},
   "outputs": [],
   "source": [
    "tri = Triangle()"
   ]
  },
  {
   "cell_type": "code",
   "execution_count": 214,
   "id": "0bd33616-6469-463e-9bb5-7e827b5bd8d1",
   "metadata": {},
   "outputs": [
    {
     "data": {
      "text/plain": [
       "'Triangle'"
      ]
     },
     "execution_count": 214,
     "metadata": {},
     "output_type": "execute_result"
    }
   ],
   "source": [
    "tri.name"
   ]
  },
  {
   "cell_type": "code",
   "execution_count": 215,
   "id": "e48ca4e8-873b-42d8-8b30-6ccbc81b30ad",
   "metadata": {},
   "outputs": [
    {
     "name": "stdout",
     "output_type": "stream",
     "text": [
      "I have 3 sides\n"
     ]
    }
   ],
   "source": [
    "tri.noOfSides()"
   ]
  },
  {
   "cell_type": "code",
   "execution_count": 216,
   "id": "f65bdc38-fd56-4172-a850-cbc59d14059f",
   "metadata": {},
   "outputs": [],
   "source": [
    "class Pentagon(Polygon):\n",
    "    def noOfSides(self):  # overriding abstract method\n",
    "        print(\"I have 5 side\")"
   ]
  },
  {
   "cell_type": "code",
   "execution_count": 217,
   "id": "5ea9059e-dbaa-475a-8044-6533c66b3884",
   "metadata": {},
   "outputs": [
    {
     "name": "stdout",
     "output_type": "stream",
     "text": [
      "I have 5 side\n"
     ]
    }
   ],
   "source": [
    "pen = Pentagon()\n",
    "pen.noOfSides()"
   ]
  },
  {
   "cell_type": "code",
   "execution_count": null,
   "id": "f760da7a-e53a-48d8-bd58-b47a496d3b63",
   "metadata": {},
   "outputs": [],
   "source": []
  },
  {
   "cell_type": "markdown",
   "id": "12ca00ee-c152-406a-847d-7d558f45ee22",
   "metadata": {},
   "source": [
    "### Without abstractmethod"
   ]
  },
  {
   "cell_type": "code",
   "execution_count": 218,
   "id": "c8c3f955-129b-4e98-a57f-b36979e5adcb",
   "metadata": {},
   "outputs": [],
   "source": [
    "class Animal(ABC):\n",
    "    def move(self):\n",
    "        # print(\"Animal Can Move\")\n",
    "        pass\n",
    "        "
   ]
  },
  {
   "cell_type": "code",
   "execution_count": 219,
   "id": "0dcbe0f3-285d-4fda-9ed2-a1e12010bc9a",
   "metadata": {},
   "outputs": [],
   "source": [
    "class Human(Animal):\n",
    "    def move(self):\n",
    "        print(\"I can walk\")"
   ]
  },
  {
   "cell_type": "code",
   "execution_count": 220,
   "id": "cfab2697-c643-4f27-937e-94a4bf81da89",
   "metadata": {},
   "outputs": [
    {
     "name": "stdout",
     "output_type": "stream",
     "text": [
      "I can walk\n"
     ]
    }
   ],
   "source": [
    "man = Human()\n",
    "man.move()"
   ]
  },
  {
   "cell_type": "code",
   "execution_count": 221,
   "id": "f3a22bbc-398e-4d7c-bfe8-db330e4acdf6",
   "metadata": {},
   "outputs": [],
   "source": [
    "class Bird(Animal): \n",
    "    def fly(self): \n",
    "        print(\"I can Fly\")"
   ]
  },
  {
   "cell_type": "code",
   "execution_count": 222,
   "id": "b339df1c-7b7e-4d2b-a1dc-b4fff0aa7872",
   "metadata": {},
   "outputs": [],
   "source": [
    "tuni = Bird()\n",
    "tuni.move()"
   ]
  },
  {
   "cell_type": "code",
   "execution_count": null,
   "id": "43f9e30c-bf2b-42f1-869f-c26856122037",
   "metadata": {},
   "outputs": [],
   "source": []
  },
  {
   "cell_type": "code",
   "execution_count": 223,
   "id": "f94cf2d0-ed75-4e0c-8d86-52d7ad6c4d6f",
   "metadata": {},
   "outputs": [
    {
     "name": "stdout",
     "output_type": "stream",
     "text": [
      "True\n",
      "False\n"
     ]
    }
   ],
   "source": [
    "print(issubclass(Bird, Animal))\n",
    "print(issubclass(Animal, Bird))"
   ]
  },
  {
   "cell_type": "code",
   "execution_count": 224,
   "id": "abd749ca-5898-4e5e-af20-705c0049856f",
   "metadata": {},
   "outputs": [
    {
     "name": "stdout",
     "output_type": "stream",
     "text": [
      "False\n"
     ]
    }
   ],
   "source": [
    "print(issubclass(Bird, Polygon))"
   ]
  },
  {
   "cell_type": "code",
   "execution_count": 225,
   "id": "55fdc5af-f0e3-4404-833d-36e35bf504f2",
   "metadata": {},
   "outputs": [
    {
     "name": "stdout",
     "output_type": "stream",
     "text": [
      "False\n",
      "True\n"
     ]
    }
   ],
   "source": [
    "print(isinstance(Bird, Animal))\n",
    "print(isinstance(tuni, Bird))"
   ]
  },
  {
   "cell_type": "code",
   "execution_count": null,
   "id": "8b6fa5ad-b429-4524-9b3b-dea56aea62a4",
   "metadata": {},
   "outputs": [],
   "source": []
  },
  {
   "cell_type": "markdown",
   "id": "3e2e0dc8-a31b-4acc-a664-6a09c827e32b",
   "metadata": {},
   "source": [
    "### Concrete Method"
   ]
  },
  {
   "cell_type": "code",
   "execution_count": 226,
   "id": "31a92ef5-7fc3-418d-b926-dfe6ba89649b",
   "metadata": {},
   "outputs": [],
   "source": [
    "class Car(ABC):\n",
    "    @property   #Abstract Property\n",
    "    @abstractmethod\n",
    "    def bio(self):  # Absract Method \n",
    "        pass\n",
    "        \n",
    "    def power(self):  # Concrete Method\n",
    "        pass"
   ]
  },
  {
   "cell_type": "code",
   "execution_count": 227,
   "id": "dbd2d58e-ff18-480d-a7ab-369c4da7ccb8",
   "metadata": {},
   "outputs": [],
   "source": [
    "class BMW(Car): \n",
    "    @property\n",
    "    def bio(self):\n",
    "        # super().bio()\n",
    "        print(\"It's a product of BMW\")\n",
    "        # super().power()\n",
    "    def power(self): \n",
    "        print(\"5000 cc\")"
   ]
  },
  {
   "cell_type": "code",
   "execution_count": 228,
   "id": "6473e4f7-ef17-4baa-b559-b4aae24588f4",
   "metadata": {},
   "outputs": [],
   "source": [
    "myCar = BMW()"
   ]
  },
  {
   "cell_type": "code",
   "execution_count": 229,
   "id": "64857687-8778-43c4-8aa2-23e216524292",
   "metadata": {},
   "outputs": [
    {
     "name": "stdout",
     "output_type": "stream",
     "text": [
      "It's a product of BMW\n"
     ]
    }
   ],
   "source": [
    "myCar.bio"
   ]
  },
  {
   "cell_type": "code",
   "execution_count": null,
   "id": "e735e5a1-24c1-4693-a234-27c642bcc556",
   "metadata": {},
   "outputs": [],
   "source": []
  }
 ],
 "metadata": {
  "kernelspec": {
   "display_name": "Python 3 (ipykernel)",
   "language": "python",
   "name": "python3"
  },
  "language_info": {
   "codemirror_mode": {
    "name": "ipython",
    "version": 3
   },
   "file_extension": ".py",
   "mimetype": "text/x-python",
   "name": "python",
   "nbconvert_exporter": "python",
   "pygments_lexer": "ipython3",
   "version": "3.13.0"
  }
 },
 "nbformat": 4,
 "nbformat_minor": 5
}
